{
 "cells": [
  {
   "cell_type": "markdown",
   "metadata": {
    "colab_type": "text",
    "id": "bMjdlF-44bE3"
   },
   "source": [
    "### Data from wikipedia"
   ]
  },
  {
   "cell_type": "code",
   "execution_count": 0,
   "metadata": {
    "colab": {},
    "colab_type": "code",
    "id": "xLdjvxA64bmL"
   },
   "outputs": [],
   "source": [
    "from bs4 import BeautifulSoup\n",
    "import requests\n",
    "import numpy as np\n",
    "import pandas as pd\n",
    "from geopy.geocoders import Nominatim\n",
    "import folium"
   ]
  },
  {
   "cell_type": "code",
   "execution_count": 30,
   "metadata": {
    "colab": {
     "base_uri": "https://localhost:8080/",
     "height": 87
    },
    "colab_type": "code",
    "id": "cJfH-k9y4gdL",
    "outputId": "9e4b2b38-264e-4244-9f42-367a3ba7f250"
   },
   "outputs": [
    {
     "name": "stdout",
     "output_type": "stream",
     "text": [
      "https://en.wikipedia.org/wiki/List_of_neighbourhoods_in_Toronto\n",
      "200\n",
      "{'Date': 'Wed, 09 Oct 2019 07:16:52 GMT', 'Content-Type': 'text/html; charset=UTF-8', 'Content-Length': '31398', 'Connection': 'keep-alive', 'Server': 'mw1271.eqiad.wmnet', 'Vary': 'Accept-Encoding,Cookie,Authorization', 'X-Powered-By': 'PHP/7.2.22-1+0~20190902.26+debian9~1.gbpd64eb7+wmf1', 'X-Content-Type-Options': 'nosniff', 'P3P': 'CP=\"See https://en.wikipedia.org/wiki/Special:CentralAutoLogin/P3P for more info.\"', 'Content-language': 'en', 'Last-Modified': 'Mon, 07 Oct 2019 21:02:08 GMT', 'Backend-Timing': 'D=107705 t=1570482443706777', 'Content-Encoding': 'gzip', 'X-Varnish': '583822252 534412826, 63768552 733551645', 'Age': '37861', 'X-Cache': 'cp1079 hit/3, cp1085 hit/8', 'X-Cache-Status': 'hit-front', 'Server-Timing': 'cache;desc=\"hit-front\"', 'Strict-Transport-Security': 'max-age=106384710; includeSubDomains; preload', 'Set-Cookie': 'WMF-Last-Access=09-Oct-2019;Path=/;HttpOnly;secure;Expires=Sun, 10 Nov 2019 00:00:00 GMT, WMF-Last-Access-Global=09-Oct-2019;Path=/;Domain=.wikipedia.org;HttpOnly;secure;Expires=Sun, 10 Nov 2019 00:00:00 GMT, GeoIP=US:CA:Mountain_View:37.40:-122.07:v4; Path=/; secure; Domain=.wikipedia.org', 'X-Analytics': 'ns=0;page_id=1150939;https=1;nocookies=1', 'X-Client-IP': '35.197.0.229', 'Cache-Control': 'private, s-maxage=0, max-age=0, must-revalidate', 'Accept-Ranges': 'bytes'}\n"
     ]
    }
   ],
   "source": [
    "url = 'https://en.wikipedia.org/wiki/List_of_neighbourhoods_in_Toronto'\n",
    "result = requests.get(url)\n",
    "print(url)\n",
    "print(result.status_code)\n",
    "print(result.headers)"
   ]
  },
  {
   "cell_type": "code",
   "execution_count": 33,
   "metadata": {
    "colab": {
     "base_uri": "https://localhost:8080/",
     "height": 47
    },
    "colab_type": "code",
    "id": "Yu29OgF04usk",
    "outputId": "7fdb5813-f77a-4012-b2d2-68f07f4a20ff"
   },
   "outputs": [
    {
     "data": {
      "text/html": [
       "<div>\n",
       "<style scoped>\n",
       "    .dataframe tbody tr th:only-of-type {\n",
       "        vertical-align: middle;\n",
       "    }\n",
       "\n",
       "    .dataframe tbody tr th {\n",
       "        vertical-align: top;\n",
       "    }\n",
       "\n",
       "    .dataframe thead th {\n",
       "        text-align: right;\n",
       "    }\n",
       "</style>\n",
       "<table border=\"1\" class=\"dataframe\">\n",
       "  <thead>\n",
       "    <tr style=\"text-align: right;\">\n",
       "      <th></th>\n",
       "      <th>Hood</th>\n",
       "      <th>Latitude</th>\n",
       "      <th>Longitude</th>\n",
       "    </tr>\n",
       "  </thead>\n",
       "  <tbody>\n",
       "  </tbody>\n",
       "</table>\n",
       "</div>"
      ],
      "text/plain": [
       "Empty DataFrame\n",
       "Columns: [Hood, Latitude, Longitude]\n",
       "Index: []"
      ]
     },
     "execution_count": 33,
     "metadata": {
      "tags": []
     },
     "output_type": "execute_result"
    }
   ],
   "source": [
    "df = pd.DataFrame(columns=['Hood', 'Latitude', 'Longitude'])\n",
    "df.head()"
   ]
  },
  {
   "cell_type": "code",
   "execution_count": 0,
   "metadata": {
    "colab": {},
    "colab_type": "code",
    "id": "ApD_419e4zno"
   },
   "outputs": [],
   "source": [
    "soup = BeautifulSoup(result.content, 'html.parser')\n",
    "table = soup.find('table')\n",
    "lis = table.find_all('li')\n",
    "\n",
    "list_of_n = []\n",
    "for li in lis:\n",
    "    a = li.find('a')\n",
    "    list_of_n.append(a.get('title').split(\", \")[0].split(\" (neighbourhood)\")[0].split(\" (Toronto)\")[0] )"
   ]
  },
  {
   "cell_type": "code",
   "execution_count": 35,
   "metadata": {
    "colab": {
     "base_uri": "https://localhost:8080/",
     "height": 212
    },
    "colab_type": "code",
    "id": "3Y7cGgg-41Dm",
    "outputId": "45a52754-2fe2-4812-e3f2-bd5b83c3f755"
   },
   "outputs": [
    {
     "name": "stdout",
     "output_type": "stream",
     "text": [
      "(32, 3)\n"
     ]
    },
    {
     "data": {
      "text/html": [
       "<div>\n",
       "<style scoped>\n",
       "    .dataframe tbody tr th:only-of-type {\n",
       "        vertical-align: middle;\n",
       "    }\n",
       "\n",
       "    .dataframe tbody tr th {\n",
       "        vertical-align: top;\n",
       "    }\n",
       "\n",
       "    .dataframe thead th {\n",
       "        text-align: right;\n",
       "    }\n",
       "</style>\n",
       "<table border=\"1\" class=\"dataframe\">\n",
       "  <thead>\n",
       "    <tr style=\"text-align: right;\">\n",
       "      <th></th>\n",
       "      <th>Hood</th>\n",
       "      <th>Latitude</th>\n",
       "      <th>Longitude</th>\n",
       "    </tr>\n",
       "  </thead>\n",
       "  <tbody>\n",
       "    <tr>\n",
       "      <th>0</th>\n",
       "      <td>Alexandra Park</td>\n",
       "      <td>NaN</td>\n",
       "      <td>NaN</td>\n",
       "    </tr>\n",
       "    <tr>\n",
       "      <th>1</th>\n",
       "      <td>The Annex</td>\n",
       "      <td>NaN</td>\n",
       "      <td>NaN</td>\n",
       "    </tr>\n",
       "    <tr>\n",
       "      <th>2</th>\n",
       "      <td>Baldwin Village</td>\n",
       "      <td>NaN</td>\n",
       "      <td>NaN</td>\n",
       "    </tr>\n",
       "    <tr>\n",
       "      <th>3</th>\n",
       "      <td>Cabbagetown</td>\n",
       "      <td>NaN</td>\n",
       "      <td>NaN</td>\n",
       "    </tr>\n",
       "    <tr>\n",
       "      <th>4</th>\n",
       "      <td>CityPlace</td>\n",
       "      <td>NaN</td>\n",
       "      <td>NaN</td>\n",
       "    </tr>\n",
       "  </tbody>\n",
       "</table>\n",
       "</div>"
      ],
      "text/plain": [
       "              Hood Latitude Longitude\n",
       "0   Alexandra Park      NaN       NaN\n",
       "1        The Annex      NaN       NaN\n",
       "2  Baldwin Village      NaN       NaN\n",
       "3      Cabbagetown      NaN       NaN\n",
       "4        CityPlace      NaN       NaN"
      ]
     },
     "execution_count": 35,
     "metadata": {
      "tags": []
     },
     "output_type": "execute_result"
    }
   ],
   "source": [
    "df['Hood'] = pd.Series(list_of_n)\n",
    "print(df.shape)\n",
    "df.head()"
   ]
  },
  {
   "cell_type": "code",
   "execution_count": 36,
   "metadata": {
    "colab": {
     "base_uri": "https://localhost:8080/",
     "height": 212
    },
    "colab_type": "code",
    "id": "3uhcd5QP44Uc",
    "outputId": "ef5d292b-c63d-4ec1-da2f-81d8dd9a77dc"
   },
   "outputs": [
    {
     "name": "stdout",
     "output_type": "stream",
     "text": [
      "(32, 3)\n"
     ]
    },
    {
     "data": {
      "text/html": [
       "<div>\n",
       "<style scoped>\n",
       "    .dataframe tbody tr th:only-of-type {\n",
       "        vertical-align: middle;\n",
       "    }\n",
       "\n",
       "    .dataframe tbody tr th {\n",
       "        vertical-align: top;\n",
       "    }\n",
       "\n",
       "    .dataframe thead th {\n",
       "        text-align: right;\n",
       "    }\n",
       "</style>\n",
       "<table border=\"1\" class=\"dataframe\">\n",
       "  <thead>\n",
       "    <tr style=\"text-align: right;\">\n",
       "      <th></th>\n",
       "      <th>Hood</th>\n",
       "      <th>Latitude</th>\n",
       "      <th>Longitude</th>\n",
       "    </tr>\n",
       "  </thead>\n",
       "  <tbody>\n",
       "    <tr>\n",
       "      <th>0</th>\n",
       "      <td>Alexandra Park</td>\n",
       "      <td>NaN</td>\n",
       "      <td>NaN</td>\n",
       "    </tr>\n",
       "    <tr>\n",
       "      <th>1</th>\n",
       "      <td>The Annex</td>\n",
       "      <td>NaN</td>\n",
       "      <td>NaN</td>\n",
       "    </tr>\n",
       "    <tr>\n",
       "      <th>2</th>\n",
       "      <td>Baldwin Village</td>\n",
       "      <td>NaN</td>\n",
       "      <td>NaN</td>\n",
       "    </tr>\n",
       "    <tr>\n",
       "      <th>3</th>\n",
       "      <td>Cabbagetown</td>\n",
       "      <td>NaN</td>\n",
       "      <td>NaN</td>\n",
       "    </tr>\n",
       "    <tr>\n",
       "      <th>4</th>\n",
       "      <td>CityPlace</td>\n",
       "      <td>NaN</td>\n",
       "      <td>NaN</td>\n",
       "    </tr>\n",
       "  </tbody>\n",
       "</table>\n",
       "</div>"
      ],
      "text/plain": [
       "              Hood Latitude Longitude\n",
       "0   Alexandra Park      NaN       NaN\n",
       "1        The Annex      NaN       NaN\n",
       "2  Baldwin Village      NaN       NaN\n",
       "3      Cabbagetown      NaN       NaN\n",
       "4        CityPlace      NaN       NaN"
      ]
     },
     "execution_count": 36,
     "metadata": {
      "tags": []
     },
     "output_type": "execute_result"
    }
   ],
   "source": [
    "df.drop_duplicates(inplace=True)\n",
    "print(df.shape)\n",
    "df.head()"
   ]
  },
  {
   "cell_type": "code",
   "execution_count": 37,
   "metadata": {
    "colab": {
     "base_uri": "https://localhost:8080/",
     "height": 733
    },
    "colab_type": "code",
    "id": "3vVkCSZj6N1r",
    "outputId": "58fcaeac-5cca-4b1d-d256-6e2782dfddf7"
   },
   "outputs": [
    {
     "name": "stdout",
     "output_type": "stream",
     "text": [
      "The geograpical coordinate of Alexandra Park, Toronto are 43.65075755, -79.4042978683821.\n",
      "The geograpical coordinate of The Annex, Toronto are 43.6703377, -79.407117.\n",
      "The geograpical coordinate of Baldwin Village, Toronto are 43.66981815, -79.4971720154081.\n",
      "The geograpical coordinate of Cabbagetown, Toronto are 43.6644734, -79.3669861.\n",
      "The geograpical coordinate of CityPlace, Toronto are 43.6392482, -79.3963865.\n",
      "The geograpical coordinate of Chinatown, Toronto are 43.6529237, -79.3980316.\n",
      "The geograpical coordinate of Church and Wellesley, Toronto are 43.6655242, -79.3838011.\n",
      "The geograpical coordinate of Corktown, Toronto are 43.6573709, -79.3565189.\n",
      "The geograpical coordinate of Discovery District, Toronto are 43.6575555, -79.3894803.\n",
      "The geograpical coordinate of Distillery District, Toronto are 43.6502947, -79.3595401.\n",
      "The geograpical coordinate of Toronto Entertainment District, Toronto are 43.64383755, -79.3866924741406.\n",
      "Cannot do: East Bayfront, Toronto, will drop index: 11\n",
      "The geograpical coordinate of Fashion District, Toronto are 43.6454561, -79.3949942.\n",
      "The geograpical coordinate of Financial District, Toronto are 43.64866395, -79.3815338905095.\n",
      "The geograpical coordinate of Garden District, Toronto are 43.6564995, -79.3771141.\n",
      "The geograpical coordinate of Grange Park, Toronto are 43.6521919, -79.3921942591534.\n",
      "The geograpical coordinate of Harbord Village, Toronto are 43.6615225, -79.4097446.\n",
      "The geograpical coordinate of Harbourfront, Toronto are 43.6400801, -79.3801495.\n",
      "The geograpical coordinate of Kensington Market, Toronto are 43.6552136, -79.4022604.\n",
      "Cannot do: Little Japan, Toronto, will drop index: 19\n",
      "The geograpical coordinate of Moss Park, Toronto are 43.6546438, -79.3697278.\n",
      "The geograpical coordinate of Old Town, Toronto are 43.6708625, -79.3727924125372.\n",
      "The geograpical coordinate of Quayside, Toronto are 43.6472502, -79.3581720783773.\n",
      "The geograpical coordinate of Queen Street West, Toronto are 43.6430569, -79.4244619.\n",
      "The geograpical coordinate of Regent Park, Toronto are 43.6607056, -79.3604569.\n",
      "The geograpical coordinate of South Core, Toronto are 43.6421064, -79.3774455.\n",
      "The geograpical coordinate of St. James Town, Toronto are 43.6694032, -79.3727041.\n",
      "The geograpical coordinate of St. Lawrence, Toronto are 43.649422, -79.3714278.\n",
      "The geograpical coordinate of Toronto Islands, Toronto are 43.6161962, -79.3693582.\n",
      "The geograpical coordinate of Trefann Court, Toronto are 43.6564893, -79.3628297.\n",
      "The geograpical coordinate of University of Toronto, Toronto are 43.6635094, -79.3977783616393.\n",
      "The geograpical coordinate of Yorkville, Toronto are 43.6713861, -79.3901677.\n"
     ]
    },
    {
     "data": {
      "text/html": [
       "<div>\n",
       "<style scoped>\n",
       "    .dataframe tbody tr th:only-of-type {\n",
       "        vertical-align: middle;\n",
       "    }\n",
       "\n",
       "    .dataframe tbody tr th {\n",
       "        vertical-align: top;\n",
       "    }\n",
       "\n",
       "    .dataframe thead th {\n",
       "        text-align: right;\n",
       "    }\n",
       "</style>\n",
       "<table border=\"1\" class=\"dataframe\">\n",
       "  <thead>\n",
       "    <tr style=\"text-align: right;\">\n",
       "      <th></th>\n",
       "      <th>Hood</th>\n",
       "      <th>Latitude</th>\n",
       "      <th>Longitude</th>\n",
       "    </tr>\n",
       "  </thead>\n",
       "  <tbody>\n",
       "    <tr>\n",
       "      <th>0</th>\n",
       "      <td>Alexandra Park</td>\n",
       "      <td>43.6508</td>\n",
       "      <td>-79.4043</td>\n",
       "    </tr>\n",
       "    <tr>\n",
       "      <th>1</th>\n",
       "      <td>The Annex</td>\n",
       "      <td>43.6703</td>\n",
       "      <td>-79.4071</td>\n",
       "    </tr>\n",
       "    <tr>\n",
       "      <th>2</th>\n",
       "      <td>Baldwin Village</td>\n",
       "      <td>43.6698</td>\n",
       "      <td>-79.4972</td>\n",
       "    </tr>\n",
       "    <tr>\n",
       "      <th>3</th>\n",
       "      <td>Cabbagetown</td>\n",
       "      <td>43.6645</td>\n",
       "      <td>-79.367</td>\n",
       "    </tr>\n",
       "    <tr>\n",
       "      <th>4</th>\n",
       "      <td>CityPlace</td>\n",
       "      <td>43.6392</td>\n",
       "      <td>-79.3964</td>\n",
       "    </tr>\n",
       "  </tbody>\n",
       "</table>\n",
       "</div>"
      ],
      "text/plain": [
       "              Hood Latitude Longitude\n",
       "0   Alexandra Park  43.6508  -79.4043\n",
       "1        The Annex  43.6703  -79.4071\n",
       "2  Baldwin Village  43.6698  -79.4972\n",
       "3      Cabbagetown  43.6645   -79.367\n",
       "4        CityPlace  43.6392  -79.3964"
      ]
     },
     "execution_count": 37,
     "metadata": {
      "tags": []
     },
     "output_type": "execute_result"
    }
   ],
   "source": [
    "to_drop_unknown = []\n",
    "geolocator = Nominatim(user_agent=\"coursera\")\n",
    "for index, row in df.iterrows():\n",
    "    address = row['Hood'] + ', Toronto'\n",
    "    try:\n",
    "        location = geolocator.geocode(address)\n",
    "        latitude = location.latitude\n",
    "        longitude = location.longitude\n",
    "        print('The geograpical coordinate of {} are {}, {}.'.format(address, latitude, longitude))\n",
    "        df.loc[index, 'Latitude'] = latitude\n",
    "        df.loc[index, 'Longitude'] = longitude\n",
    "    except AttributeError:\n",
    "        print('Cannot do: {}, will drop index: {}'.format(address, index))\n",
    "        to_drop_unknown.append(index)\n",
    "\n",
    "df.head()"
   ]
  },
  {
   "cell_type": "code",
   "execution_count": 38,
   "metadata": {
    "colab": {
     "base_uri": "https://localhost:8080/",
     "height": 34
    },
    "colab_type": "code",
    "id": "2ZV5b09Q9E-2",
    "outputId": "2808cb87-f69b-4796-b176-f15eded4ef31"
   },
   "outputs": [
    {
     "data": {
      "text/plain": [
       "(30, 3)"
      ]
     },
     "execution_count": 38,
     "metadata": {
      "tags": []
     },
     "output_type": "execute_result"
    }
   ],
   "source": [
    "clean_df = df.drop(to_drop_unknown)\n",
    "clean_df.shape"
   ]
  },
  {
   "cell_type": "code",
   "execution_count": 39,
   "metadata": {
    "colab": {
     "base_uri": "https://localhost:8080/",
     "height": 874
    },
    "colab_type": "code",
    "id": "r3MLPZum9Lmy",
    "outputId": "ec89387b-5eaf-42f3-929b-66a444eda14c"
   },
   "outputs": [
    {
     "name": "stdout",
     "output_type": "stream",
     "text": [
      "The geograpical coordinate of Toronto are 43.653963, -79.387207.\n"
     ]
    },
    {
     "data": {
      "text/html": [
       "<div style=\"width:100%;\"><div style=\"position:relative;width:100%;height:0;padding-bottom:60%;\"><iframe src=\"data:text/html;charset=utf-8;base64,PCFET0NUWVBFIGh0bWw+CjxoZWFkPiAgICAKICAgIDxtZXRhIGh0dHAtZXF1aXY9ImNvbnRlbnQtdHlwZSIgY29udGVudD0idGV4dC9odG1sOyBjaGFyc2V0PVVURi04IiAvPgogICAgPHNjcmlwdD5MX1BSRUZFUl9DQU5WQVM9ZmFsc2U7IExfTk9fVE9VQ0g9ZmFsc2U7IExfRElTQUJMRV8zRD1mYWxzZTs8L3NjcmlwdD4KICAgIDxzY3JpcHQgc3JjPSJodHRwczovL2Nkbi5qc2RlbGl2ci5uZXQvbnBtL2xlYWZsZXRAMS40LjAvZGlzdC9sZWFmbGV0LmpzIj48L3NjcmlwdD4KICAgIDxzY3JpcHQgc3JjPSJodHRwczovL2NvZGUuanF1ZXJ5LmNvbS9qcXVlcnktMS4xMi40Lm1pbi5qcyI+PC9zY3JpcHQ+CiAgICA8c2NyaXB0IHNyYz0iaHR0cHM6Ly9tYXhjZG4uYm9vdHN0cmFwY2RuLmNvbS9ib290c3RyYXAvMy4yLjAvanMvYm9vdHN0cmFwLm1pbi5qcyI+PC9zY3JpcHQ+CiAgICA8c2NyaXB0IHNyYz0iaHR0cHM6Ly9jZG5qcy5jbG91ZGZsYXJlLmNvbS9hamF4L2xpYnMvTGVhZmxldC5hd2Vzb21lLW1hcmtlcnMvMi4wLjIvbGVhZmxldC5hd2Vzb21lLW1hcmtlcnMuanMiPjwvc2NyaXB0PgogICAgPGxpbmsgcmVsPSJzdHlsZXNoZWV0IiBocmVmPSJodHRwczovL2Nkbi5qc2RlbGl2ci5uZXQvbnBtL2xlYWZsZXRAMS40LjAvZGlzdC9sZWFmbGV0LmNzcyIvPgogICAgPGxpbmsgcmVsPSJzdHlsZXNoZWV0IiBocmVmPSJodHRwczovL21heGNkbi5ib290c3RyYXBjZG4uY29tL2Jvb3RzdHJhcC8zLjIuMC9jc3MvYm9vdHN0cmFwLm1pbi5jc3MiLz4KICAgIDxsaW5rIHJlbD0ic3R5bGVzaGVldCIgaHJlZj0iaHR0cHM6Ly9tYXhjZG4uYm9vdHN0cmFwY2RuLmNvbS9ib290c3RyYXAvMy4yLjAvY3NzL2Jvb3RzdHJhcC10aGVtZS5taW4uY3NzIi8+CiAgICA8bGluayByZWw9InN0eWxlc2hlZXQiIGhyZWY9Imh0dHBzOi8vbWF4Y2RuLmJvb3RzdHJhcGNkbi5jb20vZm9udC1hd2Vzb21lLzQuNi4zL2Nzcy9mb250LWF3ZXNvbWUubWluLmNzcyIvPgogICAgPGxpbmsgcmVsPSJzdHlsZXNoZWV0IiBocmVmPSJodHRwczovL2NkbmpzLmNsb3VkZmxhcmUuY29tL2FqYXgvbGlicy9MZWFmbGV0LmF3ZXNvbWUtbWFya2Vycy8yLjAuMi9sZWFmbGV0LmF3ZXNvbWUtbWFya2Vycy5jc3MiLz4KICAgIDxsaW5rIHJlbD0ic3R5bGVzaGVldCIgaHJlZj0iaHR0cHM6Ly9yYXdjZG4uZ2l0aGFjay5jb20vcHl0aG9uLXZpc3VhbGl6YXRpb24vZm9saXVtL21hc3Rlci9mb2xpdW0vdGVtcGxhdGVzL2xlYWZsZXQuYXdlc29tZS5yb3RhdGUuY3NzIi8+CiAgICA8c3R5bGU+aHRtbCwgYm9keSB7d2lkdGg6IDEwMCU7aGVpZ2h0OiAxMDAlO21hcmdpbjogMDtwYWRkaW5nOiAwO308L3N0eWxlPgogICAgPHN0eWxlPiNtYXAge3Bvc2l0aW9uOmFic29sdXRlO3RvcDowO2JvdHRvbTowO3JpZ2h0OjA7bGVmdDowO308L3N0eWxlPgogICAgCiAgICA8bWV0YSBuYW1lPSJ2aWV3cG9ydCIgY29udGVudD0id2lkdGg9ZGV2aWNlLXdpZHRoLAogICAgICAgIGluaXRpYWwtc2NhbGU9MS4wLCBtYXhpbXVtLXNjYWxlPTEuMCwgdXNlci1zY2FsYWJsZT1ubyIgLz4KICAgIDxzdHlsZT4jbWFwXzJmYTkwNDI0OWU5ODRmODg4ZTUwNGVlYWE0OGY4YTQyIHsKICAgICAgICBwb3NpdGlvbjogcmVsYXRpdmU7CiAgICAgICAgd2lkdGg6IDEwMC4wJTsKICAgICAgICBoZWlnaHQ6IDEwMC4wJTsKICAgICAgICBsZWZ0OiAwLjAlOwogICAgICAgIHRvcDogMC4wJTsKICAgICAgICB9CiAgICA8L3N0eWxlPgo8L2hlYWQ+Cjxib2R5PiAgICAKICAgIAogICAgPGRpdiBjbGFzcz0iZm9saXVtLW1hcCIgaWQ9Im1hcF8yZmE5MDQyNDllOTg0Zjg4OGU1MDRlZWFhNDhmOGE0MiIgPjwvZGl2Pgo8L2JvZHk+CjxzY3JpcHQ+ICAgIAogICAgCiAgICAKICAgICAgICB2YXIgYm91bmRzID0gbnVsbDsKICAgIAoKICAgIHZhciBtYXBfMmZhOTA0MjQ5ZTk4NGY4ODhlNTA0ZWVhYTQ4ZjhhNDIgPSBMLm1hcCgKICAgICAgICAnbWFwXzJmYTkwNDI0OWU5ODRmODg4ZTUwNGVlYWE0OGY4YTQyJywgewogICAgICAgIGNlbnRlcjogWzQzLjY1Mzk2MywgLTc5LjM4NzIwN10sCiAgICAgICAgem9vbTogMTEsCiAgICAgICAgbWF4Qm91bmRzOiBib3VuZHMsCiAgICAgICAgbGF5ZXJzOiBbXSwKICAgICAgICB3b3JsZENvcHlKdW1wOiBmYWxzZSwKICAgICAgICBjcnM6IEwuQ1JTLkVQU0czODU3LAogICAgICAgIHpvb21Db250cm9sOiB0cnVlLAogICAgICAgIH0pOwoKCiAgICAKICAgIHZhciB0aWxlX2xheWVyXzFhZmZkNTkwMzIyZjQ3MmQ5MTM2MTZhYTM5ZWQ4N2VmID0gTC50aWxlTGF5ZXIoCiAgICAgICAgJ2h0dHBzOi8ve3N9LnRpbGUub3BlbnN0cmVldG1hcC5vcmcve3p9L3t4fS97eX0ucG5nJywKICAgICAgICB7CiAgICAgICAgImF0dHJpYnV0aW9uIjogbnVsbCwKICAgICAgICAiZGV0ZWN0UmV0aW5hIjogZmFsc2UsCiAgICAgICAgIm1heE5hdGl2ZVpvb20iOiAxOCwKICAgICAgICAibWF4Wm9vbSI6IDE4LAogICAgICAgICJtaW5ab29tIjogMCwKICAgICAgICAibm9XcmFwIjogZmFsc2UsCiAgICAgICAgIm9wYWNpdHkiOiAxLAogICAgICAgICJzdWJkb21haW5zIjogImFiYyIsCiAgICAgICAgInRtcyI6IGZhbHNlCn0pLmFkZFRvKG1hcF8yZmE5MDQyNDllOTg0Zjg4OGU1MDRlZWFhNDhmOGE0Mik7CiAgICAKICAgICAgICAgICAgdmFyIGNpcmNsZV9tYXJrZXJfNjQ3ZWY0ZmE5YjdlNDQ4OWJiZWI3YTUzOTc2MjA1OGIgPSBMLmNpcmNsZU1hcmtlcigKICAgICAgICAgICAgICAgIFs0My42NTA3NTc1NSwgLTc5LjQwNDI5Nzg2ODM4MjFdLAogICAgICAgICAgICAgICAgewogICJidWJibGluZ01vdXNlRXZlbnRzIjogdHJ1ZSwKICAiY29sb3IiOiAiYmx1ZSIsCiAgImRhc2hBcnJheSI6IG51bGwsCiAgImRhc2hPZmZzZXQiOiBudWxsLAogICJmaWxsIjogdHJ1ZSwKICAiZmlsbENvbG9yIjogIiMzMTg2Y2MiLAogICJmaWxsT3BhY2l0eSI6IDAuNywKICAiZmlsbFJ1bGUiOiAiZXZlbm9kZCIsCiAgImxpbmVDYXAiOiAicm91bmQiLAogICJsaW5lSm9pbiI6ICJyb3VuZCIsCiAgIm9wYWNpdHkiOiAxLjAsCiAgInJhZGl1cyI6IDUsCiAgInN0cm9rZSI6IHRydWUsCiAgIndlaWdodCI6IDMKfQogICAgICAgICAgICAgICAgKQogICAgICAgICAgICAgICAgLmFkZFRvKG1hcF8yZmE5MDQyNDllOTg0Zjg4OGU1MDRlZWFhNDhmOGE0Mik7CiAgICAgICAgICAgIAogICAgCiAgICAgICAgICAgIHZhciBwb3B1cF8zOWQ2N2Y5OTA3YTY0ODM0OGIwYWYyMjRjNTcwMWM1YSA9IEwucG9wdXAoe21heFdpZHRoOiAnMTAwJScKICAgICAgICAgICAgCiAgICAgICAgICAgIH0pOwoKICAgICAgICAgICAgCiAgICAgICAgICAgICAgICB2YXIgaHRtbF8zYmJhYjc4YWQ4NDE0YjZiODE3ODlmYjM0ODgzZDU5MyA9ICQoYDxkaXYgaWQ9Imh0bWxfM2JiYWI3OGFkODQxNGI2YjgxNzg5ZmIzNDg4M2Q1OTMiIHN0eWxlPSJ3aWR0aDogMTAwLjAlOyBoZWlnaHQ6IDEwMC4wJTsiPkFsZXhhbmRyYSBQYXJrPC9kaXY+YClbMF07CiAgICAgICAgICAgICAgICBwb3B1cF8zOWQ2N2Y5OTA3YTY0ODM0OGIwYWYyMjRjNTcwMWM1YS5zZXRDb250ZW50KGh0bWxfM2JiYWI3OGFkODQxNGI2YjgxNzg5ZmIzNDg4M2Q1OTMpOwogICAgICAgICAgICAKCiAgICAgICAgICAgIGNpcmNsZV9tYXJrZXJfNjQ3ZWY0ZmE5YjdlNDQ4OWJiZWI3YTUzOTc2MjA1OGIuYmluZFBvcHVwKHBvcHVwXzM5ZDY3Zjk5MDdhNjQ4MzQ4YjBhZjIyNGM1NzAxYzVhKQogICAgICAgICAgICA7CgogICAgICAgICAgICAKICAgICAgICAKICAgIAogICAgICAgICAgICB2YXIgY2lyY2xlX21hcmtlcl85ZjZjYzc2NzZjY2U0NjFhYTAyNDc5ZTZjMjMzODM3NCA9IEwuY2lyY2xlTWFya2VyKAogICAgICAgICAgICAgICAgWzQzLjY3MDMzNzcsIC03OS40MDcxMTddLAogICAgICAgICAgICAgICAgewogICJidWJibGluZ01vdXNlRXZlbnRzIjogdHJ1ZSwKICAiY29sb3IiOiAiYmx1ZSIsCiAgImRhc2hBcnJheSI6IG51bGwsCiAgImRhc2hPZmZzZXQiOiBudWxsLAogICJmaWxsIjogdHJ1ZSwKICAiZmlsbENvbG9yIjogIiMzMTg2Y2MiLAogICJmaWxsT3BhY2l0eSI6IDAuNywKICAiZmlsbFJ1bGUiOiAiZXZlbm9kZCIsCiAgImxpbmVDYXAiOiAicm91bmQiLAogICJsaW5lSm9pbiI6ICJyb3VuZCIsCiAgIm9wYWNpdHkiOiAxLjAsCiAgInJhZGl1cyI6IDUsCiAgInN0cm9rZSI6IHRydWUsCiAgIndlaWdodCI6IDMKfQogICAgICAgICAgICAgICAgKQogICAgICAgICAgICAgICAgLmFkZFRvKG1hcF8yZmE5MDQyNDllOTg0Zjg4OGU1MDRlZWFhNDhmOGE0Mik7CiAgICAgICAgICAgIAogICAgCiAgICAgICAgICAgIHZhciBwb3B1cF8xZDg1NTQwZTBjMmQ0MGMyOGZhMjZjMmQzM2EzYTFlYiA9IEwucG9wdXAoe21heFdpZHRoOiAnMTAwJScKICAgICAgICAgICAgCiAgICAgICAgICAgIH0pOwoKICAgICAgICAgICAgCiAgICAgICAgICAgICAgICB2YXIgaHRtbF8zYzZkOGJiZDJiNjI0MTUzYjdiYmM5MzhkOGVlM2U4NSA9ICQoYDxkaXYgaWQ9Imh0bWxfM2M2ZDhiYmQyYjYyNDE1M2I3YmJjOTM4ZDhlZTNlODUiIHN0eWxlPSJ3aWR0aDogMTAwLjAlOyBoZWlnaHQ6IDEwMC4wJTsiPlRoZSBBbm5leDwvZGl2PmApWzBdOwogICAgICAgICAgICAgICAgcG9wdXBfMWQ4NTU0MGUwYzJkNDBjMjhmYTI2YzJkMzNhM2ExZWIuc2V0Q29udGVudChodG1sXzNjNmQ4YmJkMmI2MjQxNTNiN2JiYzkzOGQ4ZWUzZTg1KTsKICAgICAgICAgICAgCgogICAgICAgICAgICBjaXJjbGVfbWFya2VyXzlmNmNjNzY3NmNjZTQ2MWFhMDI0NzllNmMyMzM4Mzc0LmJpbmRQb3B1cChwb3B1cF8xZDg1NTQwZTBjMmQ0MGMyOGZhMjZjMmQzM2EzYTFlYikKICAgICAgICAgICAgOwoKICAgICAgICAgICAgCiAgICAgICAgCiAgICAKICAgICAgICAgICAgdmFyIGNpcmNsZV9tYXJrZXJfYzIzY2RjZmQ0ZmU2NGUzMjgzMDZmZmViMWI3OTkwNWMgPSBMLmNpcmNsZU1hcmtlcigKICAgICAgICAgICAgICAgIFs0My42Njk4MTgxNSwgLTc5LjQ5NzE3MjAxNTQwODFdLAogICAgICAgICAgICAgICAgewogICJidWJibGluZ01vdXNlRXZlbnRzIjogdHJ1ZSwKICAiY29sb3IiOiAiYmx1ZSIsCiAgImRhc2hBcnJheSI6IG51bGwsCiAgImRhc2hPZmZzZXQiOiBudWxsLAogICJmaWxsIjogdHJ1ZSwKICAiZmlsbENvbG9yIjogIiMzMTg2Y2MiLAogICJmaWxsT3BhY2l0eSI6IDAuNywKICAiZmlsbFJ1bGUiOiAiZXZlbm9kZCIsCiAgImxpbmVDYXAiOiAicm91bmQiLAogICJsaW5lSm9pbiI6ICJyb3VuZCIsCiAgIm9wYWNpdHkiOiAxLjAsCiAgInJhZGl1cyI6IDUsCiAgInN0cm9rZSI6IHRydWUsCiAgIndlaWdodCI6IDMKfQogICAgICAgICAgICAgICAgKQogICAgICAgICAgICAgICAgLmFkZFRvKG1hcF8yZmE5MDQyNDllOTg0Zjg4OGU1MDRlZWFhNDhmOGE0Mik7CiAgICAgICAgICAgIAogICAgCiAgICAgICAgICAgIHZhciBwb3B1cF9lM2RkNWU5NTZkNjU0MWIxODcwZmZjMTA2MzJhODMxMCA9IEwucG9wdXAoe21heFdpZHRoOiAnMTAwJScKICAgICAgICAgICAgCiAgICAgICAgICAgIH0pOwoKICAgICAgICAgICAgCiAgICAgICAgICAgICAgICB2YXIgaHRtbF8zMmJiZTUyZDlmMmU0OTI5OTdiYzcyN2MwNWI2M2QyNSA9ICQoYDxkaXYgaWQ9Imh0bWxfMzJiYmU1MmQ5ZjJlNDkyOTk3YmM3MjdjMDViNjNkMjUiIHN0eWxlPSJ3aWR0aDogMTAwLjAlOyBoZWlnaHQ6IDEwMC4wJTsiPkJhbGR3aW4gVmlsbGFnZTwvZGl2PmApWzBdOwogICAgICAgICAgICAgICAgcG9wdXBfZTNkZDVlOTU2ZDY1NDFiMTg3MGZmYzEwNjMyYTgzMTAuc2V0Q29udGVudChodG1sXzMyYmJlNTJkOWYyZTQ5Mjk5N2JjNzI3YzA1YjYzZDI1KTsKICAgICAgICAgICAgCgogICAgICAgICAgICBjaXJjbGVfbWFya2VyX2MyM2NkY2ZkNGZlNjRlMzI4MzA2ZmZlYjFiNzk5MDVjLmJpbmRQb3B1cChwb3B1cF9lM2RkNWU5NTZkNjU0MWIxODcwZmZjMTA2MzJhODMxMCkKICAgICAgICAgICAgOwoKICAgICAgICAgICAgCiAgICAgICAgCiAgICAKICAgICAgICAgICAgdmFyIGNpcmNsZV9tYXJrZXJfMTJkZTFiYjgxZTE5NGFjMmIxNDAxOGVjMTNjOTU0ZDQgPSBMLmNpcmNsZU1hcmtlcigKICAgICAgICAgICAgICAgIFs0My42NjQ0NzM0LCAtNzkuMzY2OTg2MV0sCiAgICAgICAgICAgICAgICB7CiAgImJ1YmJsaW5nTW91c2VFdmVudHMiOiB0cnVlLAogICJjb2xvciI6ICJibHVlIiwKICAiZGFzaEFycmF5IjogbnVsbCwKICAiZGFzaE9mZnNldCI6IG51bGwsCiAgImZpbGwiOiB0cnVlLAogICJmaWxsQ29sb3IiOiAiIzMxODZjYyIsCiAgImZpbGxPcGFjaXR5IjogMC43LAogICJmaWxsUnVsZSI6ICJldmVub2RkIiwKICAibGluZUNhcCI6ICJyb3VuZCIsCiAgImxpbmVKb2luIjogInJvdW5kIiwKICAib3BhY2l0eSI6IDEuMCwKICAicmFkaXVzIjogNSwKICAic3Ryb2tlIjogdHJ1ZSwKICAid2VpZ2h0IjogMwp9CiAgICAgICAgICAgICAgICApCiAgICAgICAgICAgICAgICAuYWRkVG8obWFwXzJmYTkwNDI0OWU5ODRmODg4ZTUwNGVlYWE0OGY4YTQyKTsKICAgICAgICAgICAgCiAgICAKICAgICAgICAgICAgdmFyIHBvcHVwX2FkZjcwYjZmM2I0YzQ4NTI5OGYwNTA1ODAxZTY5MGMzID0gTC5wb3B1cCh7bWF4V2lkdGg6ICcxMDAlJwogICAgICAgICAgICAKICAgICAgICAgICAgfSk7CgogICAgICAgICAgICAKICAgICAgICAgICAgICAgIHZhciBodG1sX2E3NGY4NzBiMzg3OTQ1OGRiMTQ4ZjMzZDQ4ZWY2NmE1ID0gJChgPGRpdiBpZD0iaHRtbF9hNzRmODcwYjM4Nzk0NThkYjE0OGYzM2Q0OGVmNjZhNSIgc3R5bGU9IndpZHRoOiAxMDAuMCU7IGhlaWdodDogMTAwLjAlOyI+Q2FiYmFnZXRvd248L2Rpdj5gKVswXTsKICAgICAgICAgICAgICAgIHBvcHVwX2FkZjcwYjZmM2I0YzQ4NTI5OGYwNTA1ODAxZTY5MGMzLnNldENvbnRlbnQoaHRtbF9hNzRmODcwYjM4Nzk0NThkYjE0OGYzM2Q0OGVmNjZhNSk7CiAgICAgICAgICAgIAoKICAgICAgICAgICAgY2lyY2xlX21hcmtlcl8xMmRlMWJiODFlMTk0YWMyYjE0MDE4ZWMxM2M5NTRkNC5iaW5kUG9wdXAocG9wdXBfYWRmNzBiNmYzYjRjNDg1Mjk4ZjA1MDU4MDFlNjkwYzMpCiAgICAgICAgICAgIDsKCiAgICAgICAgICAgIAogICAgICAgIAogICAgCiAgICAgICAgICAgIHZhciBjaXJjbGVfbWFya2VyXzM3YmJhYzEzN2VhYzRmMTRiYjg0ZDEwMDIzN2MwZTNlID0gTC5jaXJjbGVNYXJrZXIoCiAgICAgICAgICAgICAgICBbNDMuNjM5MjQ4MiwgLTc5LjM5NjM4NjVdLAogICAgICAgICAgICAgICAgewogICJidWJibGluZ01vdXNlRXZlbnRzIjogdHJ1ZSwKICAiY29sb3IiOiAiYmx1ZSIsCiAgImRhc2hBcnJheSI6IG51bGwsCiAgImRhc2hPZmZzZXQiOiBudWxsLAogICJmaWxsIjogdHJ1ZSwKICAiZmlsbENvbG9yIjogIiMzMTg2Y2MiLAogICJmaWxsT3BhY2l0eSI6IDAuNywKICAiZmlsbFJ1bGUiOiAiZXZlbm9kZCIsCiAgImxpbmVDYXAiOiAicm91bmQiLAogICJsaW5lSm9pbiI6ICJyb3VuZCIsCiAgIm9wYWNpdHkiOiAxLjAsCiAgInJhZGl1cyI6IDUsCiAgInN0cm9rZSI6IHRydWUsCiAgIndlaWdodCI6IDMKfQogICAgICAgICAgICAgICAgKQogICAgICAgICAgICAgICAgLmFkZFRvKG1hcF8yZmE5MDQyNDllOTg0Zjg4OGU1MDRlZWFhNDhmOGE0Mik7CiAgICAgICAgICAgIAogICAgCiAgICAgICAgICAgIHZhciBwb3B1cF85MDg2MzhhMzFiNGY0MGUxOTg2ZjM2MTFiNmMyNGVmOCA9IEwucG9wdXAoe21heFdpZHRoOiAnMTAwJScKICAgICAgICAgICAgCiAgICAgICAgICAgIH0pOwoKICAgICAgICAgICAgCiAgICAgICAgICAgICAgICB2YXIgaHRtbF9hOWU4NGZhNGNhMTM0ZjkwOGQzZWIzMDg3YjI0N2E0ZCA9ICQoYDxkaXYgaWQ9Imh0bWxfYTllODRmYTRjYTEzNGY5MDhkM2ViMzA4N2IyNDdhNGQiIHN0eWxlPSJ3aWR0aDogMTAwLjAlOyBoZWlnaHQ6IDEwMC4wJTsiPkNpdHlQbGFjZTwvZGl2PmApWzBdOwogICAgICAgICAgICAgICAgcG9wdXBfOTA4NjM4YTMxYjRmNDBlMTk4NmYzNjExYjZjMjRlZjguc2V0Q29udGVudChodG1sX2E5ZTg0ZmE0Y2ExMzRmOTA4ZDNlYjMwODdiMjQ3YTRkKTsKICAgICAgICAgICAgCgogICAgICAgICAgICBjaXJjbGVfbWFya2VyXzM3YmJhYzEzN2VhYzRmMTRiYjg0ZDEwMDIzN2MwZTNlLmJpbmRQb3B1cChwb3B1cF85MDg2MzhhMzFiNGY0MGUxOTg2ZjM2MTFiNmMyNGVmOCkKICAgICAgICAgICAgOwoKICAgICAgICAgICAgCiAgICAgICAgCiAgICAKICAgICAgICAgICAgdmFyIGNpcmNsZV9tYXJrZXJfMGExNDI1ZDA2MGY2NDNlY2JlM2RkOTM4NjEwMjkwZDIgPSBMLmNpcmNsZU1hcmtlcigKICAgICAgICAgICAgICAgIFs0My42NTI5MjM3LCAtNzkuMzk4MDMxNl0sCiAgICAgICAgICAgICAgICB7CiAgImJ1YmJsaW5nTW91c2VFdmVudHMiOiB0cnVlLAogICJjb2xvciI6ICJibHVlIiwKICAiZGFzaEFycmF5IjogbnVsbCwKICAiZGFzaE9mZnNldCI6IG51bGwsCiAgImZpbGwiOiB0cnVlLAogICJmaWxsQ29sb3IiOiAiIzMxODZjYyIsCiAgImZpbGxPcGFjaXR5IjogMC43LAogICJmaWxsUnVsZSI6ICJldmVub2RkIiwKICAibGluZUNhcCI6ICJyb3VuZCIsCiAgImxpbmVKb2luIjogInJvdW5kIiwKICAib3BhY2l0eSI6IDEuMCwKICAicmFkaXVzIjogNSwKICAic3Ryb2tlIjogdHJ1ZSwKICAid2VpZ2h0IjogMwp9CiAgICAgICAgICAgICAgICApCiAgICAgICAgICAgICAgICAuYWRkVG8obWFwXzJmYTkwNDI0OWU5ODRmODg4ZTUwNGVlYWE0OGY4YTQyKTsKICAgICAgICAgICAgCiAgICAKICAgICAgICAgICAgdmFyIHBvcHVwXzhjNjU2ODMwNzFhZjQ2MTFiNDc1YWI0MjQyMjYyNzUyID0gTC5wb3B1cCh7bWF4V2lkdGg6ICcxMDAlJwogICAgICAgICAgICAKICAgICAgICAgICAgfSk7CgogICAgICAgICAgICAKICAgICAgICAgICAgICAgIHZhciBodG1sXzFmNDE2NGMxMmJlMjQ5OGFhNmMxOGM1M2IzZjA4YTAxID0gJChgPGRpdiBpZD0iaHRtbF8xZjQxNjRjMTJiZTI0OThhYTZjMThjNTNiM2YwOGEwMSIgc3R5bGU9IndpZHRoOiAxMDAuMCU7IGhlaWdodDogMTAwLjAlOyI+Q2hpbmF0b3duPC9kaXY+YClbMF07CiAgICAgICAgICAgICAgICBwb3B1cF84YzY1NjgzMDcxYWY0NjExYjQ3NWFiNDI0MjI2Mjc1Mi5zZXRDb250ZW50KGh0bWxfMWY0MTY0YzEyYmUyNDk4YWE2YzE4YzUzYjNmMDhhMDEpOwogICAgICAgICAgICAKCiAgICAgICAgICAgIGNpcmNsZV9tYXJrZXJfMGExNDI1ZDA2MGY2NDNlY2JlM2RkOTM4NjEwMjkwZDIuYmluZFBvcHVwKHBvcHVwXzhjNjU2ODMwNzFhZjQ2MTFiNDc1YWI0MjQyMjYyNzUyKQogICAgICAgICAgICA7CgogICAgICAgICAgICAKICAgICAgICAKICAgIAogICAgICAgICAgICB2YXIgY2lyY2xlX21hcmtlcl9kYjU3OTdmZDNjYWU0MjUyYjk0MGQzYjg0YTRjZDliYyA9IEwuY2lyY2xlTWFya2VyKAogICAgICAgICAgICAgICAgWzQzLjY2NTUyNDIsIC03OS4zODM4MDExXSwKICAgICAgICAgICAgICAgIHsKICAiYnViYmxpbmdNb3VzZUV2ZW50cyI6IHRydWUsCiAgImNvbG9yIjogImJsdWUiLAogICJkYXNoQXJyYXkiOiBudWxsLAogICJkYXNoT2Zmc2V0IjogbnVsbCwKICAiZmlsbCI6IHRydWUsCiAgImZpbGxDb2xvciI6ICIjMzE4NmNjIiwKICAiZmlsbE9wYWNpdHkiOiAwLjcsCiAgImZpbGxSdWxlIjogImV2ZW5vZGQiLAogICJsaW5lQ2FwIjogInJvdW5kIiwKICAibGluZUpvaW4iOiAicm91bmQiLAogICJvcGFjaXR5IjogMS4wLAogICJyYWRpdXMiOiA1LAogICJzdHJva2UiOiB0cnVlLAogICJ3ZWlnaHQiOiAzCn0KICAgICAgICAgICAgICAgICkKICAgICAgICAgICAgICAgIC5hZGRUbyhtYXBfMmZhOTA0MjQ5ZTk4NGY4ODhlNTA0ZWVhYTQ4ZjhhNDIpOwogICAgICAgICAgICAKICAgIAogICAgICAgICAgICB2YXIgcG9wdXBfODAxMDNmZGZkM2E4NGI1MjllYzcxOGRlODE2MzBmMzcgPSBMLnBvcHVwKHttYXhXaWR0aDogJzEwMCUnCiAgICAgICAgICAgIAogICAgICAgICAgICB9KTsKCiAgICAgICAgICAgIAogICAgICAgICAgICAgICAgdmFyIGh0bWxfOWRjZWZjZTZiYWZmNDE2YzljNWQ1MWZhMWM2ZGU1MGUgPSAkKGA8ZGl2IGlkPSJodG1sXzlkY2VmY2U2YmFmZjQxNmM5YzVkNTFmYTFjNmRlNTBlIiBzdHlsZT0id2lkdGg6IDEwMC4wJTsgaGVpZ2h0OiAxMDAuMCU7Ij5DaHVyY2ggYW5kIFdlbGxlc2xleTwvZGl2PmApWzBdOwogICAgICAgICAgICAgICAgcG9wdXBfODAxMDNmZGZkM2E4NGI1MjllYzcxOGRlODE2MzBmMzcuc2V0Q29udGVudChodG1sXzlkY2VmY2U2YmFmZjQxNmM5YzVkNTFmYTFjNmRlNTBlKTsKICAgICAgICAgICAgCgogICAgICAgICAgICBjaXJjbGVfbWFya2VyX2RiNTc5N2ZkM2NhZTQyNTJiOTQwZDNiODRhNGNkOWJjLmJpbmRQb3B1cChwb3B1cF84MDEwM2ZkZmQzYTg0YjUyOWVjNzE4ZGU4MTYzMGYzNykKICAgICAgICAgICAgOwoKICAgICAgICAgICAgCiAgICAgICAgCiAgICAKICAgICAgICAgICAgdmFyIGNpcmNsZV9tYXJrZXJfMTlkZGJjNGQ3NjNkNDhhZGE1NDdkM2Q1MDI2NGNmMzggPSBMLmNpcmNsZU1hcmtlcigKICAgICAgICAgICAgICAgIFs0My42NTczNzA5LCAtNzkuMzU2NTE4OV0sCiAgICAgICAgICAgICAgICB7CiAgImJ1YmJsaW5nTW91c2VFdmVudHMiOiB0cnVlLAogICJjb2xvciI6ICJibHVlIiwKICAiZGFzaEFycmF5IjogbnVsbCwKICAiZGFzaE9mZnNldCI6IG51bGwsCiAgImZpbGwiOiB0cnVlLAogICJmaWxsQ29sb3IiOiAiIzMxODZjYyIsCiAgImZpbGxPcGFjaXR5IjogMC43LAogICJmaWxsUnVsZSI6ICJldmVub2RkIiwKICAibGluZUNhcCI6ICJyb3VuZCIsCiAgImxpbmVKb2luIjogInJvdW5kIiwKICAib3BhY2l0eSI6IDEuMCwKICAicmFkaXVzIjogNSwKICAic3Ryb2tlIjogdHJ1ZSwKICAid2VpZ2h0IjogMwp9CiAgICAgICAgICAgICAgICApCiAgICAgICAgICAgICAgICAuYWRkVG8obWFwXzJmYTkwNDI0OWU5ODRmODg4ZTUwNGVlYWE0OGY4YTQyKTsKICAgICAgICAgICAgCiAgICAKICAgICAgICAgICAgdmFyIHBvcHVwXzU4MjAxNDg0NmIxNDQ2Yjg5Mjk5ZTJjNDQyMTQ3MWZhID0gTC5wb3B1cCh7bWF4V2lkdGg6ICcxMDAlJwogICAgICAgICAgICAKICAgICAgICAgICAgfSk7CgogICAgICAgICAgICAKICAgICAgICAgICAgICAgIHZhciBodG1sXzUzYTdhNDAwY2ExMzQwZWI4YTlmZjQ2NTAyMmIwOWFiID0gJChgPGRpdiBpZD0iaHRtbF81M2E3YTQwMGNhMTM0MGViOGE5ZmY0NjUwMjJiMDlhYiIgc3R5bGU9IndpZHRoOiAxMDAuMCU7IGhlaWdodDogMTAwLjAlOyI+Q29ya3Rvd248L2Rpdj5gKVswXTsKICAgICAgICAgICAgICAgIHBvcHVwXzU4MjAxNDg0NmIxNDQ2Yjg5Mjk5ZTJjNDQyMTQ3MWZhLnNldENvbnRlbnQoaHRtbF81M2E3YTQwMGNhMTM0MGViOGE5ZmY0NjUwMjJiMDlhYik7CiAgICAgICAgICAgIAoKICAgICAgICAgICAgY2lyY2xlX21hcmtlcl8xOWRkYmM0ZDc2M2Q0OGFkYTU0N2QzZDUwMjY0Y2YzOC5iaW5kUG9wdXAocG9wdXBfNTgyMDE0ODQ2YjE0NDZiODkyOTllMmM0NDIxNDcxZmEpCiAgICAgICAgICAgIDsKCiAgICAgICAgICAgIAogICAgICAgIAogICAgCiAgICAgICAgICAgIHZhciBjaXJjbGVfbWFya2VyX2IxMTllZGQxMmRiMDQ5YmNhZWVjOGRiY2JlYWRjNDBlID0gTC5jaXJjbGVNYXJrZXIoCiAgICAgICAgICAgICAgICBbNDMuNjU3NTU1NSwgLTc5LjM4OTQ4MDNdLAogICAgICAgICAgICAgICAgewogICJidWJibGluZ01vdXNlRXZlbnRzIjogdHJ1ZSwKICAiY29sb3IiOiAiYmx1ZSIsCiAgImRhc2hBcnJheSI6IG51bGwsCiAgImRhc2hPZmZzZXQiOiBudWxsLAogICJmaWxsIjogdHJ1ZSwKICAiZmlsbENvbG9yIjogIiMzMTg2Y2MiLAogICJmaWxsT3BhY2l0eSI6IDAuNywKICAiZmlsbFJ1bGUiOiAiZXZlbm9kZCIsCiAgImxpbmVDYXAiOiAicm91bmQiLAogICJsaW5lSm9pbiI6ICJyb3VuZCIsCiAgIm9wYWNpdHkiOiAxLjAsCiAgInJhZGl1cyI6IDUsCiAgInN0cm9rZSI6IHRydWUsCiAgIndlaWdodCI6IDMKfQogICAgICAgICAgICAgICAgKQogICAgICAgICAgICAgICAgLmFkZFRvKG1hcF8yZmE5MDQyNDllOTg0Zjg4OGU1MDRlZWFhNDhmOGE0Mik7CiAgICAgICAgICAgIAogICAgCiAgICAgICAgICAgIHZhciBwb3B1cF9jM2MzODVmYmRiODc0OTgyODlhMzFhNTk0MDRlYmUyZSA9IEwucG9wdXAoe21heFdpZHRoOiAnMTAwJScKICAgICAgICAgICAgCiAgICAgICAgICAgIH0pOwoKICAgICAgICAgICAgCiAgICAgICAgICAgICAgICB2YXIgaHRtbF8xZTEwNDQxNTZmNzM0MzYxYjAzYjZiZTRkMTZiMDUyYSA9ICQoYDxkaXYgaWQ9Imh0bWxfMWUxMDQ0MTU2ZjczNDM2MWIwM2I2YmU0ZDE2YjA1MmEiIHN0eWxlPSJ3aWR0aDogMTAwLjAlOyBoZWlnaHQ6IDEwMC4wJTsiPkRpc2NvdmVyeSBEaXN0cmljdDwvZGl2PmApWzBdOwogICAgICAgICAgICAgICAgcG9wdXBfYzNjMzg1ZmJkYjg3NDk4Mjg5YTMxYTU5NDA0ZWJlMmUuc2V0Q29udGVudChodG1sXzFlMTA0NDE1NmY3MzQzNjFiMDNiNmJlNGQxNmIwNTJhKTsKICAgICAgICAgICAgCgogICAgICAgICAgICBjaXJjbGVfbWFya2VyX2IxMTllZGQxMmRiMDQ5YmNhZWVjOGRiY2JlYWRjNDBlLmJpbmRQb3B1cChwb3B1cF9jM2MzODVmYmRiODc0OTgyODlhMzFhNTk0MDRlYmUyZSkKICAgICAgICAgICAgOwoKICAgICAgICAgICAgCiAgICAgICAgCiAgICAKICAgICAgICAgICAgdmFyIGNpcmNsZV9tYXJrZXJfNjVkN2RmODI5NDc1NDkxMGE2MDU5OWZmZjJiMjJkZTggPSBMLmNpcmNsZU1hcmtlcigKICAgICAgICAgICAgICAgIFs0My42NTAyOTQ3LCAtNzkuMzU5NTQwMV0sCiAgICAgICAgICAgICAgICB7CiAgImJ1YmJsaW5nTW91c2VFdmVudHMiOiB0cnVlLAogICJjb2xvciI6ICJibHVlIiwKICAiZGFzaEFycmF5IjogbnVsbCwKICAiZGFzaE9mZnNldCI6IG51bGwsCiAgImZpbGwiOiB0cnVlLAogICJmaWxsQ29sb3IiOiAiIzMxODZjYyIsCiAgImZpbGxPcGFjaXR5IjogMC43LAogICJmaWxsUnVsZSI6ICJldmVub2RkIiwKICAibGluZUNhcCI6ICJyb3VuZCIsCiAgImxpbmVKb2luIjogInJvdW5kIiwKICAib3BhY2l0eSI6IDEuMCwKICAicmFkaXVzIjogNSwKICAic3Ryb2tlIjogdHJ1ZSwKICAid2VpZ2h0IjogMwp9CiAgICAgICAgICAgICAgICApCiAgICAgICAgICAgICAgICAuYWRkVG8obWFwXzJmYTkwNDI0OWU5ODRmODg4ZTUwNGVlYWE0OGY4YTQyKTsKICAgICAgICAgICAgCiAgICAKICAgICAgICAgICAgdmFyIHBvcHVwXzUwODk2NzhiOGI5NDQ3ZDJhNjliOTYzNTg0ZjAyNjFlID0gTC5wb3B1cCh7bWF4V2lkdGg6ICcxMDAlJwogICAgICAgICAgICAKICAgICAgICAgICAgfSk7CgogICAgICAgICAgICAKICAgICAgICAgICAgICAgIHZhciBodG1sX2Y2ZTZmZTA5MTQ4MjRiZmZiY2I4Y2UwYTE2OGZlN2JhID0gJChgPGRpdiBpZD0iaHRtbF9mNmU2ZmUwOTE0ODI0YmZmYmNiOGNlMGExNjhmZTdiYSIgc3R5bGU9IndpZHRoOiAxMDAuMCU7IGhlaWdodDogMTAwLjAlOyI+RGlzdGlsbGVyeSBEaXN0cmljdDwvZGl2PmApWzBdOwogICAgICAgICAgICAgICAgcG9wdXBfNTA4OTY3OGI4Yjk0NDdkMmE2OWI5NjM1ODRmMDI2MWUuc2V0Q29udGVudChodG1sX2Y2ZTZmZTA5MTQ4MjRiZmZiY2I4Y2UwYTE2OGZlN2JhKTsKICAgICAgICAgICAgCgogICAgICAgICAgICBjaXJjbGVfbWFya2VyXzY1ZDdkZjgyOTQ3NTQ5MTBhNjA1OTlmZmYyYjIyZGU4LmJpbmRQb3B1cChwb3B1cF81MDg5Njc4YjhiOTQ0N2QyYTY5Yjk2MzU4NGYwMjYxZSkKICAgICAgICAgICAgOwoKICAgICAgICAgICAgCiAgICAgICAgCiAgICAKICAgICAgICAgICAgdmFyIGNpcmNsZV9tYXJrZXJfZDE1NjRmZGRiZmQ5NDEzMDgwZTNmOWQ1YmMzMmQwNjIgPSBMLmNpcmNsZU1hcmtlcigKICAgICAgICAgICAgICAgIFs0My42NDM4Mzc1NSwgLTc5LjM4NjY5MjQ3NDE0MDZdLAogICAgICAgICAgICAgICAgewogICJidWJibGluZ01vdXNlRXZlbnRzIjogdHJ1ZSwKICAiY29sb3IiOiAiYmx1ZSIsCiAgImRhc2hBcnJheSI6IG51bGwsCiAgImRhc2hPZmZzZXQiOiBudWxsLAogICJmaWxsIjogdHJ1ZSwKICAiZmlsbENvbG9yIjogIiMzMTg2Y2MiLAogICJmaWxsT3BhY2l0eSI6IDAuNywKICAiZmlsbFJ1bGUiOiAiZXZlbm9kZCIsCiAgImxpbmVDYXAiOiAicm91bmQiLAogICJsaW5lSm9pbiI6ICJyb3VuZCIsCiAgIm9wYWNpdHkiOiAxLjAsCiAgInJhZGl1cyI6IDUsCiAgInN0cm9rZSI6IHRydWUsCiAgIndlaWdodCI6IDMKfQogICAgICAgICAgICAgICAgKQogICAgICAgICAgICAgICAgLmFkZFRvKG1hcF8yZmE5MDQyNDllOTg0Zjg4OGU1MDRlZWFhNDhmOGE0Mik7CiAgICAgICAgICAgIAogICAgCiAgICAgICAgICAgIHZhciBwb3B1cF84NDM4NDNmOWRhYTM0ZjljOWE1YWIxZTQ0NWI2M2FkZCA9IEwucG9wdXAoe21heFdpZHRoOiAnMTAwJScKICAgICAgICAgICAgCiAgICAgICAgICAgIH0pOwoKICAgICAgICAgICAgCiAgICAgICAgICAgICAgICB2YXIgaHRtbF82ZmY5MTViMDZhZjA0YWIxYjU2OGM3Yzk3YzU4OWFjOCA9ICQoYDxkaXYgaWQ9Imh0bWxfNmZmOTE1YjA2YWYwNGFiMWI1NjhjN2M5N2M1ODlhYzgiIHN0eWxlPSJ3aWR0aDogMTAwLjAlOyBoZWlnaHQ6IDEwMC4wJTsiPlRvcm9udG8gRW50ZXJ0YWlubWVudCBEaXN0cmljdDwvZGl2PmApWzBdOwogICAgICAgICAgICAgICAgcG9wdXBfODQzODQzZjlkYWEzNGY5YzlhNWFiMWU0NDViNjNhZGQuc2V0Q29udGVudChodG1sXzZmZjkxNWIwNmFmMDRhYjFiNTY4YzdjOTdjNTg5YWM4KTsKICAgICAgICAgICAgCgogICAgICAgICAgICBjaXJjbGVfbWFya2VyX2QxNTY0ZmRkYmZkOTQxMzA4MGUzZjlkNWJjMzJkMDYyLmJpbmRQb3B1cChwb3B1cF84NDM4NDNmOWRhYTM0ZjljOWE1YWIxZTQ0NWI2M2FkZCkKICAgICAgICAgICAgOwoKICAgICAgICAgICAgCiAgICAgICAgCiAgICAKICAgICAgICAgICAgdmFyIGNpcmNsZV9tYXJrZXJfOTliY2FkYWY3YWM0NDlhZGJhYTIzNjM1MGJkNjljOGMgPSBMLmNpcmNsZU1hcmtlcigKICAgICAgICAgICAgICAgIFs0My42NDU0NTYxLCAtNzkuMzk0OTk0Ml0sCiAgICAgICAgICAgICAgICB7CiAgImJ1YmJsaW5nTW91c2VFdmVudHMiOiB0cnVlLAogICJjb2xvciI6ICJibHVlIiwKICAiZGFzaEFycmF5IjogbnVsbCwKICAiZGFzaE9mZnNldCI6IG51bGwsCiAgImZpbGwiOiB0cnVlLAogICJmaWxsQ29sb3IiOiAiIzMxODZjYyIsCiAgImZpbGxPcGFjaXR5IjogMC43LAogICJmaWxsUnVsZSI6ICJldmVub2RkIiwKICAibGluZUNhcCI6ICJyb3VuZCIsCiAgImxpbmVKb2luIjogInJvdW5kIiwKICAib3BhY2l0eSI6IDEuMCwKICAicmFkaXVzIjogNSwKICAic3Ryb2tlIjogdHJ1ZSwKICAid2VpZ2h0IjogMwp9CiAgICAgICAgICAgICAgICApCiAgICAgICAgICAgICAgICAuYWRkVG8obWFwXzJmYTkwNDI0OWU5ODRmODg4ZTUwNGVlYWE0OGY4YTQyKTsKICAgICAgICAgICAgCiAgICAKICAgICAgICAgICAgdmFyIHBvcHVwX2ZhOWFiNDMwYzE4MDQ2YTY4N2NlYTI4Y2JmODk1NzQ2ID0gTC5wb3B1cCh7bWF4V2lkdGg6ICcxMDAlJwogICAgICAgICAgICAKICAgICAgICAgICAgfSk7CgogICAgICAgICAgICAKICAgICAgICAgICAgICAgIHZhciBodG1sXzVhNjQxMWI0NzdlODRlNjA4YjVjYzFjMGI4NjdjN2U4ID0gJChgPGRpdiBpZD0iaHRtbF81YTY0MTFiNDc3ZTg0ZTYwOGI1Y2MxYzBiODY3YzdlOCIgc3R5bGU9IndpZHRoOiAxMDAuMCU7IGhlaWdodDogMTAwLjAlOyI+RmFzaGlvbiBEaXN0cmljdDwvZGl2PmApWzBdOwogICAgICAgICAgICAgICAgcG9wdXBfZmE5YWI0MzBjMTgwNDZhNjg3Y2VhMjhjYmY4OTU3NDYuc2V0Q29udGVudChodG1sXzVhNjQxMWI0NzdlODRlNjA4YjVjYzFjMGI4NjdjN2U4KTsKICAgICAgICAgICAgCgogICAgICAgICAgICBjaXJjbGVfbWFya2VyXzk5YmNhZGFmN2FjNDQ5YWRiYWEyMzYzNTBiZDY5YzhjLmJpbmRQb3B1cChwb3B1cF9mYTlhYjQzMGMxODA0NmE2ODdjZWEyOGNiZjg5NTc0NikKICAgICAgICAgICAgOwoKICAgICAgICAgICAgCiAgICAgICAgCiAgICAKICAgICAgICAgICAgdmFyIGNpcmNsZV9tYXJrZXJfMmI1OTE3ZmUxZDAzNDQzMmIwNDBmMjFhMjgxNDE0YTAgPSBMLmNpcmNsZU1hcmtlcigKICAgICAgICAgICAgICAgIFs0My42NDg2NjM5NSwgLTc5LjM4MTUzMzg5MDUwOTVdLAogICAgICAgICAgICAgICAgewogICJidWJibGluZ01vdXNlRXZlbnRzIjogdHJ1ZSwKICAiY29sb3IiOiAiYmx1ZSIsCiAgImRhc2hBcnJheSI6IG51bGwsCiAgImRhc2hPZmZzZXQiOiBudWxsLAogICJmaWxsIjogdHJ1ZSwKICAiZmlsbENvbG9yIjogIiMzMTg2Y2MiLAogICJmaWxsT3BhY2l0eSI6IDAuNywKICAiZmlsbFJ1bGUiOiAiZXZlbm9kZCIsCiAgImxpbmVDYXAiOiAicm91bmQiLAogICJsaW5lSm9pbiI6ICJyb3VuZCIsCiAgIm9wYWNpdHkiOiAxLjAsCiAgInJhZGl1cyI6IDUsCiAgInN0cm9rZSI6IHRydWUsCiAgIndlaWdodCI6IDMKfQogICAgICAgICAgICAgICAgKQogICAgICAgICAgICAgICAgLmFkZFRvKG1hcF8yZmE5MDQyNDllOTg0Zjg4OGU1MDRlZWFhNDhmOGE0Mik7CiAgICAgICAgICAgIAogICAgCiAgICAgICAgICAgIHZhciBwb3B1cF9jMmRhODE4N2MzZWE0OTI1ODllOTAzNjlkNDc1ZmFkNyA9IEwucG9wdXAoe21heFdpZHRoOiAnMTAwJScKICAgICAgICAgICAgCiAgICAgICAgICAgIH0pOwoKICAgICAgICAgICAgCiAgICAgICAgICAgICAgICB2YXIgaHRtbF9iMDg0ZTM2NzYwYzc0NGMxODJhZTVjOTU4ZTQyZWY0YyA9ICQoYDxkaXYgaWQ9Imh0bWxfYjA4NGUzNjc2MGM3NDRjMTgyYWU1Yzk1OGU0MmVmNGMiIHN0eWxlPSJ3aWR0aDogMTAwLjAlOyBoZWlnaHQ6IDEwMC4wJTsiPkZpbmFuY2lhbCBEaXN0cmljdDwvZGl2PmApWzBdOwogICAgICAgICAgICAgICAgcG9wdXBfYzJkYTgxODdjM2VhNDkyNTg5ZTkwMzY5ZDQ3NWZhZDcuc2V0Q29udGVudChodG1sX2IwODRlMzY3NjBjNzQ0YzE4MmFlNWM5NThlNDJlZjRjKTsKICAgICAgICAgICAgCgogICAgICAgICAgICBjaXJjbGVfbWFya2VyXzJiNTkxN2ZlMWQwMzQ0MzJiMDQwZjIxYTI4MTQxNGEwLmJpbmRQb3B1cChwb3B1cF9jMmRhODE4N2MzZWE0OTI1ODllOTAzNjlkNDc1ZmFkNykKICAgICAgICAgICAgOwoKICAgICAgICAgICAgCiAgICAgICAgCiAgICAKICAgICAgICAgICAgdmFyIGNpcmNsZV9tYXJrZXJfZDA5NGU2ODlhYjRkNDNiZTk1YjJiZTQ4MDM5YzM5ZTYgPSBMLmNpcmNsZU1hcmtlcigKICAgICAgICAgICAgICAgIFs0My42NTY0OTk1LCAtNzkuMzc3MTE0MV0sCiAgICAgICAgICAgICAgICB7CiAgImJ1YmJsaW5nTW91c2VFdmVudHMiOiB0cnVlLAogICJjb2xvciI6ICJibHVlIiwKICAiZGFzaEFycmF5IjogbnVsbCwKICAiZGFzaE9mZnNldCI6IG51bGwsCiAgImZpbGwiOiB0cnVlLAogICJmaWxsQ29sb3IiOiAiIzMxODZjYyIsCiAgImZpbGxPcGFjaXR5IjogMC43LAogICJmaWxsUnVsZSI6ICJldmVub2RkIiwKICAibGluZUNhcCI6ICJyb3VuZCIsCiAgImxpbmVKb2luIjogInJvdW5kIiwKICAib3BhY2l0eSI6IDEuMCwKICAicmFkaXVzIjogNSwKICAic3Ryb2tlIjogdHJ1ZSwKICAid2VpZ2h0IjogMwp9CiAgICAgICAgICAgICAgICApCiAgICAgICAgICAgICAgICAuYWRkVG8obWFwXzJmYTkwNDI0OWU5ODRmODg4ZTUwNGVlYWE0OGY4YTQyKTsKICAgICAgICAgICAgCiAgICAKICAgICAgICAgICAgdmFyIHBvcHVwXzJhY2JkYTUwOTUxMTQ4Nzc4OWExZGE2NWY4OGQ1ZDIwID0gTC5wb3B1cCh7bWF4V2lkdGg6ICcxMDAlJwogICAgICAgICAgICAKICAgICAgICAgICAgfSk7CgogICAgICAgICAgICAKICAgICAgICAgICAgICAgIHZhciBodG1sX2VlNzgzOGNmZWQ3YjQ4NDdiODE4OTY0YmRhMjZiMDVjID0gJChgPGRpdiBpZD0iaHRtbF9lZTc4MzhjZmVkN2I0ODQ3YjgxODk2NGJkYTI2YjA1YyIgc3R5bGU9IndpZHRoOiAxMDAuMCU7IGhlaWdodDogMTAwLjAlOyI+R2FyZGVuIERpc3RyaWN0PC9kaXY+YClbMF07CiAgICAgICAgICAgICAgICBwb3B1cF8yYWNiZGE1MDk1MTE0ODc3ODlhMWRhNjVmODhkNWQyMC5zZXRDb250ZW50KGh0bWxfZWU3ODM4Y2ZlZDdiNDg0N2I4MTg5NjRiZGEyNmIwNWMpOwogICAgICAgICAgICAKCiAgICAgICAgICAgIGNpcmNsZV9tYXJrZXJfZDA5NGU2ODlhYjRkNDNiZTk1YjJiZTQ4MDM5YzM5ZTYuYmluZFBvcHVwKHBvcHVwXzJhY2JkYTUwOTUxMTQ4Nzc4OWExZGE2NWY4OGQ1ZDIwKQogICAgICAgICAgICA7CgogICAgICAgICAgICAKICAgICAgICAKICAgIAogICAgICAgICAgICB2YXIgY2lyY2xlX21hcmtlcl83ZTMxN2RkMTVkYTY0Nzk1ODQ0M2NmOGUxYTk0YjU2YSA9IEwuY2lyY2xlTWFya2VyKAogICAgICAgICAgICAgICAgWzQzLjY1MjE5MTksIC03OS4zOTIxOTQyNTkxNTM0XSwKICAgICAgICAgICAgICAgIHsKICAiYnViYmxpbmdNb3VzZUV2ZW50cyI6IHRydWUsCiAgImNvbG9yIjogImJsdWUiLAogICJkYXNoQXJyYXkiOiBudWxsLAogICJkYXNoT2Zmc2V0IjogbnVsbCwKICAiZmlsbCI6IHRydWUsCiAgImZpbGxDb2xvciI6ICIjMzE4NmNjIiwKICAiZmlsbE9wYWNpdHkiOiAwLjcsCiAgImZpbGxSdWxlIjogImV2ZW5vZGQiLAogICJsaW5lQ2FwIjogInJvdW5kIiwKICAibGluZUpvaW4iOiAicm91bmQiLAogICJvcGFjaXR5IjogMS4wLAogICJyYWRpdXMiOiA1LAogICJzdHJva2UiOiB0cnVlLAogICJ3ZWlnaHQiOiAzCn0KICAgICAgICAgICAgICAgICkKICAgICAgICAgICAgICAgIC5hZGRUbyhtYXBfMmZhOTA0MjQ5ZTk4NGY4ODhlNTA0ZWVhYTQ4ZjhhNDIpOwogICAgICAgICAgICAKICAgIAogICAgICAgICAgICB2YXIgcG9wdXBfOGIwODczZWVjMjZkNDJmOGI2ZjI2MTBhY2Q3ZjA4ZDkgPSBMLnBvcHVwKHttYXhXaWR0aDogJzEwMCUnCiAgICAgICAgICAgIAogICAgICAgICAgICB9KTsKCiAgICAgICAgICAgIAogICAgICAgICAgICAgICAgdmFyIGh0bWxfMmY3MmFlYWZlNWI4NGM4NWI4M2Y1ZTg5ODM1ZjI2YmEgPSAkKGA8ZGl2IGlkPSJodG1sXzJmNzJhZWFmZTViODRjODViODNmNWU4OTgzNWYyNmJhIiBzdHlsZT0id2lkdGg6IDEwMC4wJTsgaGVpZ2h0OiAxMDAuMCU7Ij5HcmFuZ2UgUGFyazwvZGl2PmApWzBdOwogICAgICAgICAgICAgICAgcG9wdXBfOGIwODczZWVjMjZkNDJmOGI2ZjI2MTBhY2Q3ZjA4ZDkuc2V0Q29udGVudChodG1sXzJmNzJhZWFmZTViODRjODViODNmNWU4OTgzNWYyNmJhKTsKICAgICAgICAgICAgCgogICAgICAgICAgICBjaXJjbGVfbWFya2VyXzdlMzE3ZGQxNWRhNjQ3OTU4NDQzY2Y4ZTFhOTRiNTZhLmJpbmRQb3B1cChwb3B1cF84YjA4NzNlZWMyNmQ0MmY4YjZmMjYxMGFjZDdmMDhkOSkKICAgICAgICAgICAgOwoKICAgICAgICAgICAgCiAgICAgICAgCiAgICAKICAgICAgICAgICAgdmFyIGNpcmNsZV9tYXJrZXJfMzUwOWU3MTBhNTI0NGU4OGJjMDFkZThiZDQwM2VjYzYgPSBMLmNpcmNsZU1hcmtlcigKICAgICAgICAgICAgICAgIFs0My42NjE1MjI1LCAtNzkuNDA5NzQ0Nl0sCiAgICAgICAgICAgICAgICB7CiAgImJ1YmJsaW5nTW91c2VFdmVudHMiOiB0cnVlLAogICJjb2xvciI6ICJibHVlIiwKICAiZGFzaEFycmF5IjogbnVsbCwKICAiZGFzaE9mZnNldCI6IG51bGwsCiAgImZpbGwiOiB0cnVlLAogICJmaWxsQ29sb3IiOiAiIzMxODZjYyIsCiAgImZpbGxPcGFjaXR5IjogMC43LAogICJmaWxsUnVsZSI6ICJldmVub2RkIiwKICAibGluZUNhcCI6ICJyb3VuZCIsCiAgImxpbmVKb2luIjogInJvdW5kIiwKICAib3BhY2l0eSI6IDEuMCwKICAicmFkaXVzIjogNSwKICAic3Ryb2tlIjogdHJ1ZSwKICAid2VpZ2h0IjogMwp9CiAgICAgICAgICAgICAgICApCiAgICAgICAgICAgICAgICAuYWRkVG8obWFwXzJmYTkwNDI0OWU5ODRmODg4ZTUwNGVlYWE0OGY4YTQyKTsKICAgICAgICAgICAgCiAgICAKICAgICAgICAgICAgdmFyIHBvcHVwX2RjMTZlODg0NzgyZDQ4NWQ5NDRmZGMxZjU0ODBjYjI1ID0gTC5wb3B1cCh7bWF4V2lkdGg6ICcxMDAlJwogICAgICAgICAgICAKICAgICAgICAgICAgfSk7CgogICAgICAgICAgICAKICAgICAgICAgICAgICAgIHZhciBodG1sXzEyYmJkNDQ5YzM1MzQzODhhMTk2YTNiNDVkOTA0OTA0ID0gJChgPGRpdiBpZD0iaHRtbF8xMmJiZDQ0OWMzNTM0Mzg4YTE5NmEzYjQ1ZDkwNDkwNCIgc3R5bGU9IndpZHRoOiAxMDAuMCU7IGhlaWdodDogMTAwLjAlOyI+SGFyYm9yZCBWaWxsYWdlPC9kaXY+YClbMF07CiAgICAgICAgICAgICAgICBwb3B1cF9kYzE2ZTg4NDc4MmQ0ODVkOTQ0ZmRjMWY1NDgwY2IyNS5zZXRDb250ZW50KGh0bWxfMTJiYmQ0NDljMzUzNDM4OGExOTZhM2I0NWQ5MDQ5MDQpOwogICAgICAgICAgICAKCiAgICAgICAgICAgIGNpcmNsZV9tYXJrZXJfMzUwOWU3MTBhNTI0NGU4OGJjMDFkZThiZDQwM2VjYzYuYmluZFBvcHVwKHBvcHVwX2RjMTZlODg0NzgyZDQ4NWQ5NDRmZGMxZjU0ODBjYjI1KQogICAgICAgICAgICA7CgogICAgICAgICAgICAKICAgICAgICAKICAgIAogICAgICAgICAgICB2YXIgY2lyY2xlX21hcmtlcl82OWU2ZmEzMTcxNmU0ODM3YjAwYWM4YjJjYjk5NDQxOSA9IEwuY2lyY2xlTWFya2VyKAogICAgICAgICAgICAgICAgWzQzLjY0MDA4MDEsIC03OS4zODAxNDk1XSwKICAgICAgICAgICAgICAgIHsKICAiYnViYmxpbmdNb3VzZUV2ZW50cyI6IHRydWUsCiAgImNvbG9yIjogImJsdWUiLAogICJkYXNoQXJyYXkiOiBudWxsLAogICJkYXNoT2Zmc2V0IjogbnVsbCwKICAiZmlsbCI6IHRydWUsCiAgImZpbGxDb2xvciI6ICIjMzE4NmNjIiwKICAiZmlsbE9wYWNpdHkiOiAwLjcsCiAgImZpbGxSdWxlIjogImV2ZW5vZGQiLAogICJsaW5lQ2FwIjogInJvdW5kIiwKICAibGluZUpvaW4iOiAicm91bmQiLAogICJvcGFjaXR5IjogMS4wLAogICJyYWRpdXMiOiA1LAogICJzdHJva2UiOiB0cnVlLAogICJ3ZWlnaHQiOiAzCn0KICAgICAgICAgICAgICAgICkKICAgICAgICAgICAgICAgIC5hZGRUbyhtYXBfMmZhOTA0MjQ5ZTk4NGY4ODhlNTA0ZWVhYTQ4ZjhhNDIpOwogICAgICAgICAgICAKICAgIAogICAgICAgICAgICB2YXIgcG9wdXBfMjY0ZWQyNDk4NWE5NDk3OThhNTJkNzgxNjRjNmJmYjIgPSBMLnBvcHVwKHttYXhXaWR0aDogJzEwMCUnCiAgICAgICAgICAgIAogICAgICAgICAgICB9KTsKCiAgICAgICAgICAgIAogICAgICAgICAgICAgICAgdmFyIGh0bWxfMzk2ZDY5Y2E0ZDFlNDVlZmI1MDhjYzAzYWYyMDRhOWEgPSAkKGA8ZGl2IGlkPSJodG1sXzM5NmQ2OWNhNGQxZTQ1ZWZiNTA4Y2MwM2FmMjA0YTlhIiBzdHlsZT0id2lkdGg6IDEwMC4wJTsgaGVpZ2h0OiAxMDAuMCU7Ij5IYXJib3VyZnJvbnQ8L2Rpdj5gKVswXTsKICAgICAgICAgICAgICAgIHBvcHVwXzI2NGVkMjQ5ODVhOTQ5Nzk4YTUyZDc4MTY0YzZiZmIyLnNldENvbnRlbnQoaHRtbF8zOTZkNjljYTRkMWU0NWVmYjUwOGNjMDNhZjIwNGE5YSk7CiAgICAgICAgICAgIAoKICAgICAgICAgICAgY2lyY2xlX21hcmtlcl82OWU2ZmEzMTcxNmU0ODM3YjAwYWM4YjJjYjk5NDQxOS5iaW5kUG9wdXAocG9wdXBfMjY0ZWQyNDk4NWE5NDk3OThhNTJkNzgxNjRjNmJmYjIpCiAgICAgICAgICAgIDsKCiAgICAgICAgICAgIAogICAgICAgIAogICAgCiAgICAgICAgICAgIHZhciBjaXJjbGVfbWFya2VyXzZlZjAxNTFmNGYxNDQ4ZGY4YWM2NWZiOGQ1ZDk4YzNhID0gTC5jaXJjbGVNYXJrZXIoCiAgICAgICAgICAgICAgICBbNDMuNjU1MjEzNiwgLTc5LjQwMjI2MDRdLAogICAgICAgICAgICAgICAgewogICJidWJibGluZ01vdXNlRXZlbnRzIjogdHJ1ZSwKICAiY29sb3IiOiAiYmx1ZSIsCiAgImRhc2hBcnJheSI6IG51bGwsCiAgImRhc2hPZmZzZXQiOiBudWxsLAogICJmaWxsIjogdHJ1ZSwKICAiZmlsbENvbG9yIjogIiMzMTg2Y2MiLAogICJmaWxsT3BhY2l0eSI6IDAuNywKICAiZmlsbFJ1bGUiOiAiZXZlbm9kZCIsCiAgImxpbmVDYXAiOiAicm91bmQiLAogICJsaW5lSm9pbiI6ICJyb3VuZCIsCiAgIm9wYWNpdHkiOiAxLjAsCiAgInJhZGl1cyI6IDUsCiAgInN0cm9rZSI6IHRydWUsCiAgIndlaWdodCI6IDMKfQogICAgICAgICAgICAgICAgKQogICAgICAgICAgICAgICAgLmFkZFRvKG1hcF8yZmE5MDQyNDllOTg0Zjg4OGU1MDRlZWFhNDhmOGE0Mik7CiAgICAgICAgICAgIAogICAgCiAgICAgICAgICAgIHZhciBwb3B1cF9hNjFjZGE0NWU4ZTE0NTgzYTdmYmIyYThmODU0NTY5NSA9IEwucG9wdXAoe21heFdpZHRoOiAnMTAwJScKICAgICAgICAgICAgCiAgICAgICAgICAgIH0pOwoKICAgICAgICAgICAgCiAgICAgICAgICAgICAgICB2YXIgaHRtbF9lMjJiMjBhYzkyYTg0MDhiYmM5NzJiYWE5ZmNkOWRmOSA9ICQoYDxkaXYgaWQ9Imh0bWxfZTIyYjIwYWM5MmE4NDA4YmJjOTcyYmFhOWZjZDlkZjkiIHN0eWxlPSJ3aWR0aDogMTAwLjAlOyBoZWlnaHQ6IDEwMC4wJTsiPktlbnNpbmd0b24gTWFya2V0PC9kaXY+YClbMF07CiAgICAgICAgICAgICAgICBwb3B1cF9hNjFjZGE0NWU4ZTE0NTgzYTdmYmIyYThmODU0NTY5NS5zZXRDb250ZW50KGh0bWxfZTIyYjIwYWM5MmE4NDA4YmJjOTcyYmFhOWZjZDlkZjkpOwogICAgICAgICAgICAKCiAgICAgICAgICAgIGNpcmNsZV9tYXJrZXJfNmVmMDE1MWY0ZjE0NDhkZjhhYzY1ZmI4ZDVkOThjM2EuYmluZFBvcHVwKHBvcHVwX2E2MWNkYTQ1ZThlMTQ1ODNhN2ZiYjJhOGY4NTQ1Njk1KQogICAgICAgICAgICA7CgogICAgICAgICAgICAKICAgICAgICAKICAgIAogICAgICAgICAgICB2YXIgY2lyY2xlX21hcmtlcl9iNjU1YWUyMDk4OGY0YzQ5YTM0MWVlMWJhOWNjNWFiYyA9IEwuY2lyY2xlTWFya2VyKAogICAgICAgICAgICAgICAgWzQzLjY1NDY0MzgsIC03OS4zNjk3Mjc4XSwKICAgICAgICAgICAgICAgIHsKICAiYnViYmxpbmdNb3VzZUV2ZW50cyI6IHRydWUsCiAgImNvbG9yIjogImJsdWUiLAogICJkYXNoQXJyYXkiOiBudWxsLAogICJkYXNoT2Zmc2V0IjogbnVsbCwKICAiZmlsbCI6IHRydWUsCiAgImZpbGxDb2xvciI6ICIjMzE4NmNjIiwKICAiZmlsbE9wYWNpdHkiOiAwLjcsCiAgImZpbGxSdWxlIjogImV2ZW5vZGQiLAogICJsaW5lQ2FwIjogInJvdW5kIiwKICAibGluZUpvaW4iOiAicm91bmQiLAogICJvcGFjaXR5IjogMS4wLAogICJyYWRpdXMiOiA1LAogICJzdHJva2UiOiB0cnVlLAogICJ3ZWlnaHQiOiAzCn0KICAgICAgICAgICAgICAgICkKICAgICAgICAgICAgICAgIC5hZGRUbyhtYXBfMmZhOTA0MjQ5ZTk4NGY4ODhlNTA0ZWVhYTQ4ZjhhNDIpOwogICAgICAgICAgICAKICAgIAogICAgICAgICAgICB2YXIgcG9wdXBfNjliNDlhZmE5NGFkNGUzNjk3NzU4NmMzMTMwODk3MzkgPSBMLnBvcHVwKHttYXhXaWR0aDogJzEwMCUnCiAgICAgICAgICAgIAogICAgICAgICAgICB9KTsKCiAgICAgICAgICAgIAogICAgICAgICAgICAgICAgdmFyIGh0bWxfM2M4YjNjZGZhNDdjNDI1OTlhZmQxODliZTZmOGQ3NWMgPSAkKGA8ZGl2IGlkPSJodG1sXzNjOGIzY2RmYTQ3YzQyNTk5YWZkMTg5YmU2ZjhkNzVjIiBzdHlsZT0id2lkdGg6IDEwMC4wJTsgaGVpZ2h0OiAxMDAuMCU7Ij5Nb3NzIFBhcms8L2Rpdj5gKVswXTsKICAgICAgICAgICAgICAgIHBvcHVwXzY5YjQ5YWZhOTRhZDRlMzY5Nzc1ODZjMzEzMDg5NzM5LnNldENvbnRlbnQoaHRtbF8zYzhiM2NkZmE0N2M0MjU5OWFmZDE4OWJlNmY4ZDc1Yyk7CiAgICAgICAgICAgIAoKICAgICAgICAgICAgY2lyY2xlX21hcmtlcl9iNjU1YWUyMDk4OGY0YzQ5YTM0MWVlMWJhOWNjNWFiYy5iaW5kUG9wdXAocG9wdXBfNjliNDlhZmE5NGFkNGUzNjk3NzU4NmMzMTMwODk3MzkpCiAgICAgICAgICAgIDsKCiAgICAgICAgICAgIAogICAgICAgIAogICAgCiAgICAgICAgICAgIHZhciBjaXJjbGVfbWFya2VyXzZlMjQ2NmY5NDVlMDQ0NDRiODI1YzMxNTNiZGViOWRhID0gTC5jaXJjbGVNYXJrZXIoCiAgICAgICAgICAgICAgICBbNDMuNjcwODYyNSwgLTc5LjM3Mjc5MjQxMjUzNzJdLAogICAgICAgICAgICAgICAgewogICJidWJibGluZ01vdXNlRXZlbnRzIjogdHJ1ZSwKICAiY29sb3IiOiAiYmx1ZSIsCiAgImRhc2hBcnJheSI6IG51bGwsCiAgImRhc2hPZmZzZXQiOiBudWxsLAogICJmaWxsIjogdHJ1ZSwKICAiZmlsbENvbG9yIjogIiMzMTg2Y2MiLAogICJmaWxsT3BhY2l0eSI6IDAuNywKICAiZmlsbFJ1bGUiOiAiZXZlbm9kZCIsCiAgImxpbmVDYXAiOiAicm91bmQiLAogICJsaW5lSm9pbiI6ICJyb3VuZCIsCiAgIm9wYWNpdHkiOiAxLjAsCiAgInJhZGl1cyI6IDUsCiAgInN0cm9rZSI6IHRydWUsCiAgIndlaWdodCI6IDMKfQogICAgICAgICAgICAgICAgKQogICAgICAgICAgICAgICAgLmFkZFRvKG1hcF8yZmE5MDQyNDllOTg0Zjg4OGU1MDRlZWFhNDhmOGE0Mik7CiAgICAgICAgICAgIAogICAgCiAgICAgICAgICAgIHZhciBwb3B1cF9lYjIxZTczMWU1ZjQ0OGJlYTBiNWUzMDA4OGU1YTEyYyA9IEwucG9wdXAoe21heFdpZHRoOiAnMTAwJScKICAgICAgICAgICAgCiAgICAgICAgICAgIH0pOwoKICAgICAgICAgICAgCiAgICAgICAgICAgICAgICB2YXIgaHRtbF9mZGM4YmU2YTRhM2E0YzNhOTFkZGZmNzRhMThmOTdmZCA9ICQoYDxkaXYgaWQ9Imh0bWxfZmRjOGJlNmE0YTNhNGMzYTkxZGRmZjc0YTE4Zjk3ZmQiIHN0eWxlPSJ3aWR0aDogMTAwLjAlOyBoZWlnaHQ6IDEwMC4wJTsiPk9sZCBUb3duPC9kaXY+YClbMF07CiAgICAgICAgICAgICAgICBwb3B1cF9lYjIxZTczMWU1ZjQ0OGJlYTBiNWUzMDA4OGU1YTEyYy5zZXRDb250ZW50KGh0bWxfZmRjOGJlNmE0YTNhNGMzYTkxZGRmZjc0YTE4Zjk3ZmQpOwogICAgICAgICAgICAKCiAgICAgICAgICAgIGNpcmNsZV9tYXJrZXJfNmUyNDY2Zjk0NWUwNDQ0NGI4MjVjMzE1M2JkZWI5ZGEuYmluZFBvcHVwKHBvcHVwX2ViMjFlNzMxZTVmNDQ4YmVhMGI1ZTMwMDg4ZTVhMTJjKQogICAgICAgICAgICA7CgogICAgICAgICAgICAKICAgICAgICAKICAgIAogICAgICAgICAgICB2YXIgY2lyY2xlX21hcmtlcl9mNmIxNmMxMTcwZGY0ZjkwOWZlMjZiNzUyODVjMDc4OSA9IEwuY2lyY2xlTWFya2VyKAogICAgICAgICAgICAgICAgWzQzLjY0NzI1MDIsIC03OS4zNTgxNzIwNzgzNzczXSwKICAgICAgICAgICAgICAgIHsKICAiYnViYmxpbmdNb3VzZUV2ZW50cyI6IHRydWUsCiAgImNvbG9yIjogImJsdWUiLAogICJkYXNoQXJyYXkiOiBudWxsLAogICJkYXNoT2Zmc2V0IjogbnVsbCwKICAiZmlsbCI6IHRydWUsCiAgImZpbGxDb2xvciI6ICIjMzE4NmNjIiwKICAiZmlsbE9wYWNpdHkiOiAwLjcsCiAgImZpbGxSdWxlIjogImV2ZW5vZGQiLAogICJsaW5lQ2FwIjogInJvdW5kIiwKICAibGluZUpvaW4iOiAicm91bmQiLAogICJvcGFjaXR5IjogMS4wLAogICJyYWRpdXMiOiA1LAogICJzdHJva2UiOiB0cnVlLAogICJ3ZWlnaHQiOiAzCn0KICAgICAgICAgICAgICAgICkKICAgICAgICAgICAgICAgIC5hZGRUbyhtYXBfMmZhOTA0MjQ5ZTk4NGY4ODhlNTA0ZWVhYTQ4ZjhhNDIpOwogICAgICAgICAgICAKICAgIAogICAgICAgICAgICB2YXIgcG9wdXBfZWNhNTYwZjk5MDQyNGM3MzgzMGIxMTE3OGYyMzJmM2EgPSBMLnBvcHVwKHttYXhXaWR0aDogJzEwMCUnCiAgICAgICAgICAgIAogICAgICAgICAgICB9KTsKCiAgICAgICAgICAgIAogICAgICAgICAgICAgICAgdmFyIGh0bWxfZmI5NDRhZWRlZTZkNGE2M2EzYTBhZDEyZmFmNTEzMDAgPSAkKGA8ZGl2IGlkPSJodG1sX2ZiOTQ0YWVkZWU2ZDRhNjNhM2EwYWQxMmZhZjUxMzAwIiBzdHlsZT0id2lkdGg6IDEwMC4wJTsgaGVpZ2h0OiAxMDAuMCU7Ij5RdWF5c2lkZTwvZGl2PmApWzBdOwogICAgICAgICAgICAgICAgcG9wdXBfZWNhNTYwZjk5MDQyNGM3MzgzMGIxMTE3OGYyMzJmM2Euc2V0Q29udGVudChodG1sX2ZiOTQ0YWVkZWU2ZDRhNjNhM2EwYWQxMmZhZjUxMzAwKTsKICAgICAgICAgICAgCgogICAgICAgICAgICBjaXJjbGVfbWFya2VyX2Y2YjE2YzExNzBkZjRmOTA5ZmUyNmI3NTI4NWMwNzg5LmJpbmRQb3B1cChwb3B1cF9lY2E1NjBmOTkwNDI0YzczODMwYjExMTc4ZjIzMmYzYSkKICAgICAgICAgICAgOwoKICAgICAgICAgICAgCiAgICAgICAgCiAgICAKICAgICAgICAgICAgdmFyIGNpcmNsZV9tYXJrZXJfMGZkMWI3MDBlZGYyNDYzYTgzZmQwNjgwMWJmMWE4ZTMgPSBMLmNpcmNsZU1hcmtlcigKICAgICAgICAgICAgICAgIFs0My42NDMwNTY5LCAtNzkuNDI0NDYxOV0sCiAgICAgICAgICAgICAgICB7CiAgImJ1YmJsaW5nTW91c2VFdmVudHMiOiB0cnVlLAogICJjb2xvciI6ICJibHVlIiwKICAiZGFzaEFycmF5IjogbnVsbCwKICAiZGFzaE9mZnNldCI6IG51bGwsCiAgImZpbGwiOiB0cnVlLAogICJmaWxsQ29sb3IiOiAiIzMxODZjYyIsCiAgImZpbGxPcGFjaXR5IjogMC43LAogICJmaWxsUnVsZSI6ICJldmVub2RkIiwKICAibGluZUNhcCI6ICJyb3VuZCIsCiAgImxpbmVKb2luIjogInJvdW5kIiwKICAib3BhY2l0eSI6IDEuMCwKICAicmFkaXVzIjogNSwKICAic3Ryb2tlIjogdHJ1ZSwKICAid2VpZ2h0IjogMwp9CiAgICAgICAgICAgICAgICApCiAgICAgICAgICAgICAgICAuYWRkVG8obWFwXzJmYTkwNDI0OWU5ODRmODg4ZTUwNGVlYWE0OGY4YTQyKTsKICAgICAgICAgICAgCiAgICAKICAgICAgICAgICAgdmFyIHBvcHVwXzIwMDA2NGI2ODA1MTQ1MzM4ZDdjYmQwYTI5MWI0ZjI4ID0gTC5wb3B1cCh7bWF4V2lkdGg6ICcxMDAlJwogICAgICAgICAgICAKICAgICAgICAgICAgfSk7CgogICAgICAgICAgICAKICAgICAgICAgICAgICAgIHZhciBodG1sXzMwOTVjMGMxZDE2NDRmOWY4YjQ2MGQxNjkzNjJhMTVmID0gJChgPGRpdiBpZD0iaHRtbF8zMDk1YzBjMWQxNjQ0ZjlmOGI0NjBkMTY5MzYyYTE1ZiIgc3R5bGU9IndpZHRoOiAxMDAuMCU7IGhlaWdodDogMTAwLjAlOyI+UXVlZW4gU3RyZWV0IFdlc3Q8L2Rpdj5gKVswXTsKICAgICAgICAgICAgICAgIHBvcHVwXzIwMDA2NGI2ODA1MTQ1MzM4ZDdjYmQwYTI5MWI0ZjI4LnNldENvbnRlbnQoaHRtbF8zMDk1YzBjMWQxNjQ0ZjlmOGI0NjBkMTY5MzYyYTE1Zik7CiAgICAgICAgICAgIAoKICAgICAgICAgICAgY2lyY2xlX21hcmtlcl8wZmQxYjcwMGVkZjI0NjNhODNmZDA2ODAxYmYxYThlMy5iaW5kUG9wdXAocG9wdXBfMjAwMDY0YjY4MDUxNDUzMzhkN2NiZDBhMjkxYjRmMjgpCiAgICAgICAgICAgIDsKCiAgICAgICAgICAgIAogICAgICAgIAogICAgCiAgICAgICAgICAgIHZhciBjaXJjbGVfbWFya2VyXzA4ZDQ5ZjVjZjc2MTQwNDQ5MTQ1ZjRiYjIxMTE5OWY2ID0gTC5jaXJjbGVNYXJrZXIoCiAgICAgICAgICAgICAgICBbNDMuNjYwNzA1NiwgLTc5LjM2MDQ1NjldLAogICAgICAgICAgICAgICAgewogICJidWJibGluZ01vdXNlRXZlbnRzIjogdHJ1ZSwKICAiY29sb3IiOiAiYmx1ZSIsCiAgImRhc2hBcnJheSI6IG51bGwsCiAgImRhc2hPZmZzZXQiOiBudWxsLAogICJmaWxsIjogdHJ1ZSwKICAiZmlsbENvbG9yIjogIiMzMTg2Y2MiLAogICJmaWxsT3BhY2l0eSI6IDAuNywKICAiZmlsbFJ1bGUiOiAiZXZlbm9kZCIsCiAgImxpbmVDYXAiOiAicm91bmQiLAogICJsaW5lSm9pbiI6ICJyb3VuZCIsCiAgIm9wYWNpdHkiOiAxLjAsCiAgInJhZGl1cyI6IDUsCiAgInN0cm9rZSI6IHRydWUsCiAgIndlaWdodCI6IDMKfQogICAgICAgICAgICAgICAgKQogICAgICAgICAgICAgICAgLmFkZFRvKG1hcF8yZmE5MDQyNDllOTg0Zjg4OGU1MDRlZWFhNDhmOGE0Mik7CiAgICAgICAgICAgIAogICAgCiAgICAgICAgICAgIHZhciBwb3B1cF8zZTEyYjM5Yzc2OTI0YjIwYWJiOTE2MTQwZTAwZTlkNSA9IEwucG9wdXAoe21heFdpZHRoOiAnMTAwJScKICAgICAgICAgICAgCiAgICAgICAgICAgIH0pOwoKICAgICAgICAgICAgCiAgICAgICAgICAgICAgICB2YXIgaHRtbF8xZjg0MWJhMDhhZjE0ZjEyOGE3OThmNDJhOGIyOTM5MSA9ICQoYDxkaXYgaWQ9Imh0bWxfMWY4NDFiYTA4YWYxNGYxMjhhNzk4ZjQyYThiMjkzOTEiIHN0eWxlPSJ3aWR0aDogMTAwLjAlOyBoZWlnaHQ6IDEwMC4wJTsiPlJlZ2VudCBQYXJrPC9kaXY+YClbMF07CiAgICAgICAgICAgICAgICBwb3B1cF8zZTEyYjM5Yzc2OTI0YjIwYWJiOTE2MTQwZTAwZTlkNS5zZXRDb250ZW50KGh0bWxfMWY4NDFiYTA4YWYxNGYxMjhhNzk4ZjQyYThiMjkzOTEpOwogICAgICAgICAgICAKCiAgICAgICAgICAgIGNpcmNsZV9tYXJrZXJfMDhkNDlmNWNmNzYxNDA0NDkxNDVmNGJiMjExMTk5ZjYuYmluZFBvcHVwKHBvcHVwXzNlMTJiMzljNzY5MjRiMjBhYmI5MTYxNDBlMDBlOWQ1KQogICAgICAgICAgICA7CgogICAgICAgICAgICAKICAgICAgICAKICAgIAogICAgICAgICAgICB2YXIgY2lyY2xlX21hcmtlcl80YWIyODZiNjFlNjg0MzQxYjkxNWU4NTQ4ZDlkMzQwMyA9IEwuY2lyY2xlTWFya2VyKAogICAgICAgICAgICAgICAgWzQzLjY0MjEwNjQsIC03OS4zNzc0NDU1XSwKICAgICAgICAgICAgICAgIHsKICAiYnViYmxpbmdNb3VzZUV2ZW50cyI6IHRydWUsCiAgImNvbG9yIjogImJsdWUiLAogICJkYXNoQXJyYXkiOiBudWxsLAogICJkYXNoT2Zmc2V0IjogbnVsbCwKICAiZmlsbCI6IHRydWUsCiAgImZpbGxDb2xvciI6ICIjMzE4NmNjIiwKICAiZmlsbE9wYWNpdHkiOiAwLjcsCiAgImZpbGxSdWxlIjogImV2ZW5vZGQiLAogICJsaW5lQ2FwIjogInJvdW5kIiwKICAibGluZUpvaW4iOiAicm91bmQiLAogICJvcGFjaXR5IjogMS4wLAogICJyYWRpdXMiOiA1LAogICJzdHJva2UiOiB0cnVlLAogICJ3ZWlnaHQiOiAzCn0KICAgICAgICAgICAgICAgICkKICAgICAgICAgICAgICAgIC5hZGRUbyhtYXBfMmZhOTA0MjQ5ZTk4NGY4ODhlNTA0ZWVhYTQ4ZjhhNDIpOwogICAgICAgICAgICAKICAgIAogICAgICAgICAgICB2YXIgcG9wdXBfYTA1YzI4M2JhMGE2NDU4OTkyNzhmMzJiMzgwMTcyYzAgPSBMLnBvcHVwKHttYXhXaWR0aDogJzEwMCUnCiAgICAgICAgICAgIAogICAgICAgICAgICB9KTsKCiAgICAgICAgICAgIAogICAgICAgICAgICAgICAgdmFyIGh0bWxfNDJiMDRmMzI0NWUzNDJjNzg2MTg5ZTIxNTJjOTFiZWIgPSAkKGA8ZGl2IGlkPSJodG1sXzQyYjA0ZjMyNDVlMzQyYzc4NjE4OWUyMTUyYzkxYmViIiBzdHlsZT0id2lkdGg6IDEwMC4wJTsgaGVpZ2h0OiAxMDAuMCU7Ij5Tb3V0aCBDb3JlPC9kaXY+YClbMF07CiAgICAgICAgICAgICAgICBwb3B1cF9hMDVjMjgzYmEwYTY0NTg5OTI3OGYzMmIzODAxNzJjMC5zZXRDb250ZW50KGh0bWxfNDJiMDRmMzI0NWUzNDJjNzg2MTg5ZTIxNTJjOTFiZWIpOwogICAgICAgICAgICAKCiAgICAgICAgICAgIGNpcmNsZV9tYXJrZXJfNGFiMjg2YjYxZTY4NDM0MWI5MTVlODU0OGQ5ZDM0MDMuYmluZFBvcHVwKHBvcHVwX2EwNWMyODNiYTBhNjQ1ODk5Mjc4ZjMyYjM4MDE3MmMwKQogICAgICAgICAgICA7CgogICAgICAgICAgICAKICAgICAgICAKICAgIAogICAgICAgICAgICB2YXIgY2lyY2xlX21hcmtlcl85ZjEyMTk0NWEwMmI0Yzc3YTU0NGQzYzYyZWRkNjZlNSA9IEwuY2lyY2xlTWFya2VyKAogICAgICAgICAgICAgICAgWzQzLjY2OTQwMzIsIC03OS4zNzI3MDQxXSwKICAgICAgICAgICAgICAgIHsKICAiYnViYmxpbmdNb3VzZUV2ZW50cyI6IHRydWUsCiAgImNvbG9yIjogImJsdWUiLAogICJkYXNoQXJyYXkiOiBudWxsLAogICJkYXNoT2Zmc2V0IjogbnVsbCwKICAiZmlsbCI6IHRydWUsCiAgImZpbGxDb2xvciI6ICIjMzE4NmNjIiwKICAiZmlsbE9wYWNpdHkiOiAwLjcsCiAgImZpbGxSdWxlIjogImV2ZW5vZGQiLAogICJsaW5lQ2FwIjogInJvdW5kIiwKICAibGluZUpvaW4iOiAicm91bmQiLAogICJvcGFjaXR5IjogMS4wLAogICJyYWRpdXMiOiA1LAogICJzdHJva2UiOiB0cnVlLAogICJ3ZWlnaHQiOiAzCn0KICAgICAgICAgICAgICAgICkKICAgICAgICAgICAgICAgIC5hZGRUbyhtYXBfMmZhOTA0MjQ5ZTk4NGY4ODhlNTA0ZWVhYTQ4ZjhhNDIpOwogICAgICAgICAgICAKICAgIAogICAgICAgICAgICB2YXIgcG9wdXBfN2I1Nzg5ZjMyMWUzNGRhYjkyMzVjYTVkNTc1ODc3NTIgPSBMLnBvcHVwKHttYXhXaWR0aDogJzEwMCUnCiAgICAgICAgICAgIAogICAgICAgICAgICB9KTsKCiAgICAgICAgICAgIAogICAgICAgICAgICAgICAgdmFyIGh0bWxfMTkzYzY0ZjdmMWQ0NGMzZWJjMzU0MDg5Mzg3MGEyNzEgPSAkKGA8ZGl2IGlkPSJodG1sXzE5M2M2NGY3ZjFkNDRjM2ViYzM1NDA4OTM4NzBhMjcxIiBzdHlsZT0id2lkdGg6IDEwMC4wJTsgaGVpZ2h0OiAxMDAuMCU7Ij5TdC4gSmFtZXMgVG93bjwvZGl2PmApWzBdOwogICAgICAgICAgICAgICAgcG9wdXBfN2I1Nzg5ZjMyMWUzNGRhYjkyMzVjYTVkNTc1ODc3NTIuc2V0Q29udGVudChodG1sXzE5M2M2NGY3ZjFkNDRjM2ViYzM1NDA4OTM4NzBhMjcxKTsKICAgICAgICAgICAgCgogICAgICAgICAgICBjaXJjbGVfbWFya2VyXzlmMTIxOTQ1YTAyYjRjNzdhNTQ0ZDNjNjJlZGQ2NmU1LmJpbmRQb3B1cChwb3B1cF83YjU3ODlmMzIxZTM0ZGFiOTIzNWNhNWQ1NzU4Nzc1MikKICAgICAgICAgICAgOwoKICAgICAgICAgICAgCiAgICAgICAgCiAgICAKICAgICAgICAgICAgdmFyIGNpcmNsZV9tYXJrZXJfZWM4ZTI2MDJiNDgzNDE4NjgyM2M2NTQ4OGI0Y2EzNzYgPSBMLmNpcmNsZU1hcmtlcigKICAgICAgICAgICAgICAgIFs0My42NDk0MjIsIC03OS4zNzE0Mjc4XSwKICAgICAgICAgICAgICAgIHsKICAiYnViYmxpbmdNb3VzZUV2ZW50cyI6IHRydWUsCiAgImNvbG9yIjogImJsdWUiLAogICJkYXNoQXJyYXkiOiBudWxsLAogICJkYXNoT2Zmc2V0IjogbnVsbCwKICAiZmlsbCI6IHRydWUsCiAgImZpbGxDb2xvciI6ICIjMzE4NmNjIiwKICAiZmlsbE9wYWNpdHkiOiAwLjcsCiAgImZpbGxSdWxlIjogImV2ZW5vZGQiLAogICJsaW5lQ2FwIjogInJvdW5kIiwKICAibGluZUpvaW4iOiAicm91bmQiLAogICJvcGFjaXR5IjogMS4wLAogICJyYWRpdXMiOiA1LAogICJzdHJva2UiOiB0cnVlLAogICJ3ZWlnaHQiOiAzCn0KICAgICAgICAgICAgICAgICkKICAgICAgICAgICAgICAgIC5hZGRUbyhtYXBfMmZhOTA0MjQ5ZTk4NGY4ODhlNTA0ZWVhYTQ4ZjhhNDIpOwogICAgICAgICAgICAKICAgIAogICAgICAgICAgICB2YXIgcG9wdXBfMGIxMTc1YjVjN2Q2NGE5Y2EzNWMzZDhjYjFjMTU5MzMgPSBMLnBvcHVwKHttYXhXaWR0aDogJzEwMCUnCiAgICAgICAgICAgIAogICAgICAgICAgICB9KTsKCiAgICAgICAgICAgIAogICAgICAgICAgICAgICAgdmFyIGh0bWxfMmY5ZGI3N2Y0NmY0NDM1Zjk5YmNkOTliNzg3NGMzMWQgPSAkKGA8ZGl2IGlkPSJodG1sXzJmOWRiNzdmNDZmNDQzNWY5OWJjZDk5Yjc4NzRjMzFkIiBzdHlsZT0id2lkdGg6IDEwMC4wJTsgaGVpZ2h0OiAxMDAuMCU7Ij5TdC4gTGF3cmVuY2U8L2Rpdj5gKVswXTsKICAgICAgICAgICAgICAgIHBvcHVwXzBiMTE3NWI1YzdkNjRhOWNhMzVjM2Q4Y2IxYzE1OTMzLnNldENvbnRlbnQoaHRtbF8yZjlkYjc3ZjQ2ZjQ0MzVmOTliY2Q5OWI3ODc0YzMxZCk7CiAgICAgICAgICAgIAoKICAgICAgICAgICAgY2lyY2xlX21hcmtlcl9lYzhlMjYwMmI0ODM0MTg2ODIzYzY1NDg4YjRjYTM3Ni5iaW5kUG9wdXAocG9wdXBfMGIxMTc1YjVjN2Q2NGE5Y2EzNWMzZDhjYjFjMTU5MzMpCiAgICAgICAgICAgIDsKCiAgICAgICAgICAgIAogICAgICAgIAogICAgCiAgICAgICAgICAgIHZhciBjaXJjbGVfbWFya2VyXzJhZjc1ZWU5MzI2YzQ4ZjA5MmY0NWJiOGYxNWYxN2RkID0gTC5jaXJjbGVNYXJrZXIoCiAgICAgICAgICAgICAgICBbNDMuNjE2MTk2MiwgLTc5LjM2OTM1ODJdLAogICAgICAgICAgICAgICAgewogICJidWJibGluZ01vdXNlRXZlbnRzIjogdHJ1ZSwKICAiY29sb3IiOiAiYmx1ZSIsCiAgImRhc2hBcnJheSI6IG51bGwsCiAgImRhc2hPZmZzZXQiOiBudWxsLAogICJmaWxsIjogdHJ1ZSwKICAiZmlsbENvbG9yIjogIiMzMTg2Y2MiLAogICJmaWxsT3BhY2l0eSI6IDAuNywKICAiZmlsbFJ1bGUiOiAiZXZlbm9kZCIsCiAgImxpbmVDYXAiOiAicm91bmQiLAogICJsaW5lSm9pbiI6ICJyb3VuZCIsCiAgIm9wYWNpdHkiOiAxLjAsCiAgInJhZGl1cyI6IDUsCiAgInN0cm9rZSI6IHRydWUsCiAgIndlaWdodCI6IDMKfQogICAgICAgICAgICAgICAgKQogICAgICAgICAgICAgICAgLmFkZFRvKG1hcF8yZmE5MDQyNDllOTg0Zjg4OGU1MDRlZWFhNDhmOGE0Mik7CiAgICAgICAgICAgIAogICAgCiAgICAgICAgICAgIHZhciBwb3B1cF9mMDk3ODdiNGYwODg0MjBkYmRjMjM2YjhiYTEzMGNmMSA9IEwucG9wdXAoe21heFdpZHRoOiAnMTAwJScKICAgICAgICAgICAgCiAgICAgICAgICAgIH0pOwoKICAgICAgICAgICAgCiAgICAgICAgICAgICAgICB2YXIgaHRtbF85ODhkYjg0YTU1ZTM0NWRlYTA1MDllOTAyODA1NjMzNiA9ICQoYDxkaXYgaWQ9Imh0bWxfOTg4ZGI4NGE1NWUzNDVkZWEwNTA5ZTkwMjgwNTYzMzYiIHN0eWxlPSJ3aWR0aDogMTAwLjAlOyBoZWlnaHQ6IDEwMC4wJTsiPlRvcm9udG8gSXNsYW5kczwvZGl2PmApWzBdOwogICAgICAgICAgICAgICAgcG9wdXBfZjA5Nzg3YjRmMDg4NDIwZGJkYzIzNmI4YmExMzBjZjEuc2V0Q29udGVudChodG1sXzk4OGRiODRhNTVlMzQ1ZGVhMDUwOWU5MDI4MDU2MzM2KTsKICAgICAgICAgICAgCgogICAgICAgICAgICBjaXJjbGVfbWFya2VyXzJhZjc1ZWU5MzI2YzQ4ZjA5MmY0NWJiOGYxNWYxN2RkLmJpbmRQb3B1cChwb3B1cF9mMDk3ODdiNGYwODg0MjBkYmRjMjM2YjhiYTEzMGNmMSkKICAgICAgICAgICAgOwoKICAgICAgICAgICAgCiAgICAgICAgCiAgICAKICAgICAgICAgICAgdmFyIGNpcmNsZV9tYXJrZXJfMGRkNDY3MjU1MjM3NGRmNmI3ZTgzMGE1OGJiODZjNGYgPSBMLmNpcmNsZU1hcmtlcigKICAgICAgICAgICAgICAgIFs0My42NTY0ODkzLCAtNzkuMzYyODI5N10sCiAgICAgICAgICAgICAgICB7CiAgImJ1YmJsaW5nTW91c2VFdmVudHMiOiB0cnVlLAogICJjb2xvciI6ICJibHVlIiwKICAiZGFzaEFycmF5IjogbnVsbCwKICAiZGFzaE9mZnNldCI6IG51bGwsCiAgImZpbGwiOiB0cnVlLAogICJmaWxsQ29sb3IiOiAiIzMxODZjYyIsCiAgImZpbGxPcGFjaXR5IjogMC43LAogICJmaWxsUnVsZSI6ICJldmVub2RkIiwKICAibGluZUNhcCI6ICJyb3VuZCIsCiAgImxpbmVKb2luIjogInJvdW5kIiwKICAib3BhY2l0eSI6IDEuMCwKICAicmFkaXVzIjogNSwKICAic3Ryb2tlIjogdHJ1ZSwKICAid2VpZ2h0IjogMwp9CiAgICAgICAgICAgICAgICApCiAgICAgICAgICAgICAgICAuYWRkVG8obWFwXzJmYTkwNDI0OWU5ODRmODg4ZTUwNGVlYWE0OGY4YTQyKTsKICAgICAgICAgICAgCiAgICAKICAgICAgICAgICAgdmFyIHBvcHVwXzQ3YmE1NTU1OGRmZTQwOGI4YjQyOWNmODQ1OTQ0ZWU4ID0gTC5wb3B1cCh7bWF4V2lkdGg6ICcxMDAlJwogICAgICAgICAgICAKICAgICAgICAgICAgfSk7CgogICAgICAgICAgICAKICAgICAgICAgICAgICAgIHZhciBodG1sX2I4YTE1NjU4NDdmZTQ5NGFhNjdlZmI2OTA4MjQ1NjlhID0gJChgPGRpdiBpZD0iaHRtbF9iOGExNTY1ODQ3ZmU0OTRhYTY3ZWZiNjkwODI0NTY5YSIgc3R5bGU9IndpZHRoOiAxMDAuMCU7IGhlaWdodDogMTAwLjAlOyI+VHJlZmFubiBDb3VydDwvZGl2PmApWzBdOwogICAgICAgICAgICAgICAgcG9wdXBfNDdiYTU1NTU4ZGZlNDA4YjhiNDI5Y2Y4NDU5NDRlZTguc2V0Q29udGVudChodG1sX2I4YTE1NjU4NDdmZTQ5NGFhNjdlZmI2OTA4MjQ1NjlhKTsKICAgICAgICAgICAgCgogICAgICAgICAgICBjaXJjbGVfbWFya2VyXzBkZDQ2NzI1NTIzNzRkZjZiN2U4MzBhNThiYjg2YzRmLmJpbmRQb3B1cChwb3B1cF80N2JhNTU1NThkZmU0MDhiOGI0MjljZjg0NTk0NGVlOCkKICAgICAgICAgICAgOwoKICAgICAgICAgICAgCiAgICAgICAgCiAgICAKICAgICAgICAgICAgdmFyIGNpcmNsZV9tYXJrZXJfY2M2ZjkzMDM5OTY4NGEyM2EzN2JjMzE2OTkyNDI3NDcgPSBMLmNpcmNsZU1hcmtlcigKICAgICAgICAgICAgICAgIFs0My42NjM1MDk0LCAtNzkuMzk3Nzc4MzYxNjM5M10sCiAgICAgICAgICAgICAgICB7CiAgImJ1YmJsaW5nTW91c2VFdmVudHMiOiB0cnVlLAogICJjb2xvciI6ICJibHVlIiwKICAiZGFzaEFycmF5IjogbnVsbCwKICAiZGFzaE9mZnNldCI6IG51bGwsCiAgImZpbGwiOiB0cnVlLAogICJmaWxsQ29sb3IiOiAiIzMxODZjYyIsCiAgImZpbGxPcGFjaXR5IjogMC43LAogICJmaWxsUnVsZSI6ICJldmVub2RkIiwKICAibGluZUNhcCI6ICJyb3VuZCIsCiAgImxpbmVKb2luIjogInJvdW5kIiwKICAib3BhY2l0eSI6IDEuMCwKICAicmFkaXVzIjogNSwKICAic3Ryb2tlIjogdHJ1ZSwKICAid2VpZ2h0IjogMwp9CiAgICAgICAgICAgICAgICApCiAgICAgICAgICAgICAgICAuYWRkVG8obWFwXzJmYTkwNDI0OWU5ODRmODg4ZTUwNGVlYWE0OGY4YTQyKTsKICAgICAgICAgICAgCiAgICAKICAgICAgICAgICAgdmFyIHBvcHVwX2U4OTE3MjY2Nzk1YTQ4Yjk5YTFlODY1OWVjNWExNGNkID0gTC5wb3B1cCh7bWF4V2lkdGg6ICcxMDAlJwogICAgICAgICAgICAKICAgICAgICAgICAgfSk7CgogICAgICAgICAgICAKICAgICAgICAgICAgICAgIHZhciBodG1sXzI4ODQ0ZWUzNjBlODRhNTY5NjU5OTllZDRjMzUxNjFiID0gJChgPGRpdiBpZD0iaHRtbF8yODg0NGVlMzYwZTg0YTU2OTY1OTk5ZWQ0YzM1MTYxYiIgc3R5bGU9IndpZHRoOiAxMDAuMCU7IGhlaWdodDogMTAwLjAlOyI+VW5pdmVyc2l0eSBvZiBUb3JvbnRvPC9kaXY+YClbMF07CiAgICAgICAgICAgICAgICBwb3B1cF9lODkxNzI2Njc5NWE0OGI5OWExZTg2NTllYzVhMTRjZC5zZXRDb250ZW50KGh0bWxfMjg4NDRlZTM2MGU4NGE1Njk2NTk5OWVkNGMzNTE2MWIpOwogICAgICAgICAgICAKCiAgICAgICAgICAgIGNpcmNsZV9tYXJrZXJfY2M2ZjkzMDM5OTY4NGEyM2EzN2JjMzE2OTkyNDI3NDcuYmluZFBvcHVwKHBvcHVwX2U4OTE3MjY2Nzk1YTQ4Yjk5YTFlODY1OWVjNWExNGNkKQogICAgICAgICAgICA7CgogICAgICAgICAgICAKICAgICAgICAKICAgIAogICAgICAgICAgICB2YXIgY2lyY2xlX21hcmtlcl9iNDE1YTNhMWRhOWU0M2YzYWNlYjU5NTdlZTQwYTgyNCA9IEwuY2lyY2xlTWFya2VyKAogICAgICAgICAgICAgICAgWzQzLjY3MTM4NjEsIC03OS4zOTAxNjc3XSwKICAgICAgICAgICAgICAgIHsKICAiYnViYmxpbmdNb3VzZUV2ZW50cyI6IHRydWUsCiAgImNvbG9yIjogImJsdWUiLAogICJkYXNoQXJyYXkiOiBudWxsLAogICJkYXNoT2Zmc2V0IjogbnVsbCwKICAiZmlsbCI6IHRydWUsCiAgImZpbGxDb2xvciI6ICIjMzE4NmNjIiwKICAiZmlsbE9wYWNpdHkiOiAwLjcsCiAgImZpbGxSdWxlIjogImV2ZW5vZGQiLAogICJsaW5lQ2FwIjogInJvdW5kIiwKICAibGluZUpvaW4iOiAicm91bmQiLAogICJvcGFjaXR5IjogMS4wLAogICJyYWRpdXMiOiA1LAogICJzdHJva2UiOiB0cnVlLAogICJ3ZWlnaHQiOiAzCn0KICAgICAgICAgICAgICAgICkKICAgICAgICAgICAgICAgIC5hZGRUbyhtYXBfMmZhOTA0MjQ5ZTk4NGY4ODhlNTA0ZWVhYTQ4ZjhhNDIpOwogICAgICAgICAgICAKICAgIAogICAgICAgICAgICB2YXIgcG9wdXBfN2FhNDY3NTcxYzAyNDU4MmJiNDIxZjQzYTZkMTE3YzQgPSBMLnBvcHVwKHttYXhXaWR0aDogJzEwMCUnCiAgICAgICAgICAgIAogICAgICAgICAgICB9KTsKCiAgICAgICAgICAgIAogICAgICAgICAgICAgICAgdmFyIGh0bWxfMGZhNTYzNGNiOTA4NDcwMGJmODBjZmE0YzRhZWM3NzMgPSAkKGA8ZGl2IGlkPSJodG1sXzBmYTU2MzRjYjkwODQ3MDBiZjgwY2ZhNGM0YWVjNzczIiBzdHlsZT0id2lkdGg6IDEwMC4wJTsgaGVpZ2h0OiAxMDAuMCU7Ij5Zb3JrdmlsbGU8L2Rpdj5gKVswXTsKICAgICAgICAgICAgICAgIHBvcHVwXzdhYTQ2NzU3MWMwMjQ1ODJiYjQyMWY0M2E2ZDExN2M0LnNldENvbnRlbnQoaHRtbF8wZmE1NjM0Y2I5MDg0NzAwYmY4MGNmYTRjNGFlYzc3Myk7CiAgICAgICAgICAgIAoKICAgICAgICAgICAgY2lyY2xlX21hcmtlcl9iNDE1YTNhMWRhOWU0M2YzYWNlYjU5NTdlZTQwYTgyNC5iaW5kUG9wdXAocG9wdXBfN2FhNDY3NTcxYzAyNDU4MmJiNDIxZjQzYTZkMTE3YzQpCiAgICAgICAgICAgIDsKCiAgICAgICAgICAgIAogICAgICAgIAo8L3NjcmlwdD4=\" style=\"position:absolute;width:100%;height:100%;left:0;top:0;border:none !important;\" allowfullscreen webkitallowfullscreen mozallowfullscreen></iframe></div></div>"
      ],
      "text/plain": [
       "<folium.folium.Map at 0x7fbedd02bc88>"
      ]
     },
     "execution_count": 39,
     "metadata": {
      "tags": []
     },
     "output_type": "execute_result"
    }
   ],
   "source": [
    "address = 'Toronto'\n",
    "try:\n",
    "    location = geolocator.geocode(address)\n",
    "    latitude = location.latitude\n",
    "    longitude = location.longitude\n",
    "    print('The geograpical coordinate of {} are {}, {}.'.format(address, latitude, longitude))\n",
    "    df.loc[index, 'Latitude'] = latitude\n",
    "    df.loc[index, 'Longitude'] = longitude\n",
    "except AttributeError:\n",
    "    print('Cannot do: {}, will drop index: {}'.format(address, index))\n",
    "\n",
    "my_map = folium.Map(location=[latitude, longitude], zoom_start=11)\n",
    "\n",
    "# add markers to map\n",
    "for lat, lng, label in zip(clean_df['Latitude'], clean_df['Longitude'], clean_df['Hood']):\n",
    "    label = folium.Popup(label)\n",
    "    folium.CircleMarker(\n",
    "        [lat, lng],\n",
    "        radius=5,\n",
    "        popup=label,\n",
    "        color='blue',\n",
    "        fill_color='#3186cc',\n",
    "        fill_opacity=0.7).add_to(my_map)  \n",
    "    \n",
    "my_map"
   ]
  },
  {
   "cell_type": "code",
   "execution_count": 0,
   "metadata": {
    "colab": {},
    "colab_type": "code",
    "id": "8wiGhNWt9MEO"
   },
   "outputs": [],
   "source": []
  }
 ],
 "metadata": {
  "colab": {
   "name": "Neighborhoods in the Toronto",
   "provenance": []
  },
  "kernelspec": {
   "display_name": "Python 3",
   "language": "python",
   "name": "python3"
  },
  "language_info": {
   "codemirror_mode": {
    "name": "ipython",
    "version": 3
   },
   "file_extension": ".py",
   "mimetype": "text/x-python",
   "name": "python",
   "nbconvert_exporter": "python",
   "pygments_lexer": "ipython3",
   "version": "3.7.4"
  }
 },
 "nbformat": 4,
 "nbformat_minor": 1
}
